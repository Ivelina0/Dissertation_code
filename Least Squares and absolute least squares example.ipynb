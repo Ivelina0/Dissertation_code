{
 "cells": [
  {
   "cell_type": "code",
   "execution_count": 1,
   "metadata": {},
   "outputs": [],
   "source": [
    "import numpy as np\n",
    "import pandas as pd\n",
    "import matplotlib.pyplot as plt\n",
    "import seaborn as sns\n",
    "sns.set()\n",
    "%matplotlib inline  \n",
    "\n",
    "from sklearn.linear_model import LinearRegression"
   ]
  },
  {
   "cell_type": "markdown",
   "metadata": {},
   "source": [
    "# Some data wrangling"
   ]
  },
  {
   "cell_type": "code",
   "execution_count": 123,
   "metadata": {},
   "outputs": [
    {
     "name": "stdout",
     "output_type": "stream",
     "text": [
      "Index(['Date', 'Region_Name', 'Area_Code', 'First_Time_Buyer_Average_Price',\n",
      "       'First_Time_Buyer_Index', 'First_Time_Buyer_Monthly_Change',\n",
      "       'First_Time_Buyer_Annual_Change', 'Former_Owner_Occupier_Average_Price',\n",
      "       'Former_Owner_Occupier_Index', 'Former_Owner_Occupier_Monthly_Change',\n",
      "       'Former_Owner_Occupier_Annual_Change'],\n",
      "      dtype='object') Index(['Date', 'Region_Name', 'Area_Code', 'Average_Price', 'Monthly_Change',\n",
      "       'Annual_Change', 'Average_Price_SA'],\n",
      "      dtype='object')\n"
     ]
    }
   ],
   "source": [
    "avr_house_prices = pd.read_csv('Average-prices-2020-10.csv')\n",
    "\n",
    "first_time_buyers = pd.read_csv('First-Time-Buyer-Former-Owner-Occupied-2020-10.csv')\n",
    "\n",
    "print(first_time_buyers.columns, avr_house_prices.columns)"
   ]
  },
  {
   "cell_type": "code",
   "execution_count": 124,
   "metadata": {},
   "outputs": [
    {
     "data": {
      "text/html": [
       "<div>\n",
       "<style scoped>\n",
       "    .dataframe tbody tr th:only-of-type {\n",
       "        vertical-align: middle;\n",
       "    }\n",
       "\n",
       "    .dataframe tbody tr th {\n",
       "        vertical-align: top;\n",
       "    }\n",
       "\n",
       "    .dataframe thead th {\n",
       "        text-align: right;\n",
       "    }\n",
       "</style>\n",
       "<table border=\"1\" class=\"dataframe\">\n",
       "  <thead>\n",
       "    <tr style=\"text-align: right;\">\n",
       "      <th></th>\n",
       "      <th>Date</th>\n",
       "      <th>Region_Name</th>\n",
       "      <th>First_Time_Buyer_Average_Price</th>\n",
       "    </tr>\n",
       "  </thead>\n",
       "  <tbody>\n",
       "    <tr>\n",
       "      <th>37092</th>\n",
       "      <td>2019-05-01</td>\n",
       "      <td>Scotland</td>\n",
       "      <td>123174.8681</td>\n",
       "    </tr>\n",
       "    <tr>\n",
       "      <th>37093</th>\n",
       "      <td>2019-05-01</td>\n",
       "      <td>England</td>\n",
       "      <td>205510.8724</td>\n",
       "    </tr>\n",
       "    <tr>\n",
       "      <th>37094</th>\n",
       "      <td>2019-05-01</td>\n",
       "      <td>Wales</td>\n",
       "      <td>139641.7727</td>\n",
       "    </tr>\n",
       "    <tr>\n",
       "      <th>37095</th>\n",
       "      <td>2019-05-01</td>\n",
       "      <td>Outer London</td>\n",
       "      <td>354284.1213</td>\n",
       "    </tr>\n",
       "    <tr>\n",
       "      <th>37096</th>\n",
       "      <td>2019-05-01</td>\n",
       "      <td>Inner London</td>\n",
       "      <td>503794.3192</td>\n",
       "    </tr>\n",
       "    <tr>\n",
       "      <th>...</th>\n",
       "      <td>...</td>\n",
       "      <td>...</td>\n",
       "      <td>...</td>\n",
       "    </tr>\n",
       "    <tr>\n",
       "      <th>40423</th>\n",
       "      <td>2019-12-01</td>\n",
       "      <td>Shropshire</td>\n",
       "      <td>174468.1194</td>\n",
       "    </tr>\n",
       "    <tr>\n",
       "      <th>40424</th>\n",
       "      <td>2019-12-01</td>\n",
       "      <td>Wiltshire</td>\n",
       "      <td>215635.7306</td>\n",
       "    </tr>\n",
       "    <tr>\n",
       "      <th>40425</th>\n",
       "      <td>2019-12-01</td>\n",
       "      <td>Bedford</td>\n",
       "      <td>234467.4968</td>\n",
       "    </tr>\n",
       "    <tr>\n",
       "      <th>40426</th>\n",
       "      <td>2019-12-01</td>\n",
       "      <td>Central Bedfordshire</td>\n",
       "      <td>245302.8533</td>\n",
       "    </tr>\n",
       "    <tr>\n",
       "      <th>40427</th>\n",
       "      <td>2019-12-01</td>\n",
       "      <td>Great Britain</td>\n",
       "      <td>195303.8383</td>\n",
       "    </tr>\n",
       "  </tbody>\n",
       "</table>\n",
       "<p>3336 rows × 3 columns</p>\n",
       "</div>"
      ],
      "text/plain": [
       "             Date           Region_Name  First_Time_Buyer_Average_Price\n",
       "37092  2019-05-01              Scotland                     123174.8681\n",
       "37093  2019-05-01               England                     205510.8724\n",
       "37094  2019-05-01                 Wales                     139641.7727\n",
       "37095  2019-05-01          Outer London                     354284.1213\n",
       "37096  2019-05-01          Inner London                     503794.3192\n",
       "...           ...                   ...                             ...\n",
       "40423  2019-12-01            Shropshire                     174468.1194\n",
       "40424  2019-12-01             Wiltshire                     215635.7306\n",
       "40425  2019-12-01               Bedford                     234467.4968\n",
       "40426  2019-12-01  Central Bedfordshire                     245302.8533\n",
       "40427  2019-12-01         Great Britain                     195303.8383\n",
       "\n",
       "[3336 rows x 3 columns]"
      ]
     },
     "execution_count": 124,
     "metadata": {},
     "output_type": "execute_result"
    }
   ],
   "source": [
    "first_time_buyers_2 = first_time_buyers[['Date', 'Region_Name','First_Time_Buyer_Average_Price']]\n",
    "\n",
    "first_time_buyers_3 = first_time_buyers_2[ first_time_buyers_2['Date'] < '2020-01-01'].dropna()\n",
    "\n",
    "first_time_buyers_4 = first_time_buyers_3[ first_time_buyers_3['Date'] >= '2019-05-01'].dropna()\n",
    "\n",
    "first_time_buyers_4"
   ]
  },
  {
   "cell_type": "code",
   "execution_count": 125,
   "metadata": {},
   "outputs": [
    {
     "data": {
      "text/html": [
       "<div>\n",
       "<style scoped>\n",
       "    .dataframe tbody tr th:only-of-type {\n",
       "        vertical-align: middle;\n",
       "    }\n",
       "\n",
       "    .dataframe tbody tr th {\n",
       "        vertical-align: top;\n",
       "    }\n",
       "\n",
       "    .dataframe thead th {\n",
       "        text-align: right;\n",
       "    }\n",
       "</style>\n",
       "<table border=\"1\" class=\"dataframe\">\n",
       "  <thead>\n",
       "    <tr style=\"text-align: right;\">\n",
       "      <th></th>\n",
       "      <th>Date</th>\n",
       "      <th>Region_Name</th>\n",
       "      <th>Average_Price</th>\n",
       "    </tr>\n",
       "  </thead>\n",
       "  <tbody>\n",
       "    <tr>\n",
       "      <th>124277</th>\n",
       "      <td>2019-05-01</td>\n",
       "      <td>Scotland</td>\n",
       "      <td>151416.6801</td>\n",
       "    </tr>\n",
       "    <tr>\n",
       "      <th>124278</th>\n",
       "      <td>2019-05-01</td>\n",
       "      <td>England</td>\n",
       "      <td>244928.0826</td>\n",
       "    </tr>\n",
       "    <tr>\n",
       "      <th>124279</th>\n",
       "      <td>2019-05-01</td>\n",
       "      <td>Wales</td>\n",
       "      <td>161628.0883</td>\n",
       "    </tr>\n",
       "    <tr>\n",
       "      <th>124280</th>\n",
       "      <td>2019-05-01</td>\n",
       "      <td>Northern Ireland</td>\n",
       "      <td>136960.0380</td>\n",
       "    </tr>\n",
       "    <tr>\n",
       "      <th>124281</th>\n",
       "      <td>2019-05-01</td>\n",
       "      <td>Outer London</td>\n",
       "      <td>415785.6700</td>\n",
       "    </tr>\n",
       "  </tbody>\n",
       "</table>\n",
       "</div>"
      ],
      "text/plain": [
       "              Date       Region_Name  Average_Price\n",
       "124277  2019-05-01          Scotland    151416.6801\n",
       "124278  2019-05-01           England    244928.0826\n",
       "124279  2019-05-01             Wales    161628.0883\n",
       "124280  2019-05-01  Northern Ireland    136960.0380\n",
       "124281  2019-05-01      Outer London    415785.6700"
      ]
     },
     "execution_count": 125,
     "metadata": {},
     "output_type": "execute_result"
    }
   ],
   "source": [
    "avr_house_prices_2 = avr_house_prices[['Date', 'Region_Name','Average_Price']]\n",
    "\n",
    "avr_house_prices_3 = avr_house_prices_2[avr_house_prices_2['Date'] >= '2020-01-01'].dropna()\n",
    "\n",
    "avr_house_prices_3 = avr_house_prices_2[ avr_house_prices_2['Date'] < '2020-01-01'].dropna()\n",
    "\n",
    "avr_house_prices_4 = avr_house_prices_3[ avr_house_prices_3['Date'] >= '2019-05-01'].dropna()\n",
    "\n",
    "avr_house_prices_4.head()"
   ]
  },
  {
   "cell_type": "code",
   "execution_count": 126,
   "metadata": {},
   "outputs": [],
   "source": [
    "first_time_buyers_5 = first_time_buyers_4.groupby(['Region_Name']).mean()\n",
    "\n",
    "avr_house_prices_5 = avr_house_prices_4.groupby(['Region_Name']).mean()"
   ]
  },
  {
   "cell_type": "markdown",
   "metadata": {},
   "source": [
    "#### Total County/ towns first time buyer avr price ets"
   ]
  },
  {
   "cell_type": "code",
   "execution_count": 127,
   "metadata": {},
   "outputs": [
    {
     "data": {
      "text/html": [
       "<div>\n",
       "<style scoped>\n",
       "    .dataframe tbody tr th:only-of-type {\n",
       "        vertical-align: middle;\n",
       "    }\n",
       "\n",
       "    .dataframe tbody tr th {\n",
       "        vertical-align: top;\n",
       "    }\n",
       "\n",
       "    .dataframe thead th {\n",
       "        text-align: right;\n",
       "    }\n",
       "</style>\n",
       "<table border=\"1\" class=\"dataframe\">\n",
       "  <thead>\n",
       "    <tr style=\"text-align: right;\">\n",
       "      <th></th>\n",
       "      <th>Average_Price</th>\n",
       "      <th>First_Time_Buyer_Average_Price</th>\n",
       "    </tr>\n",
       "    <tr>\n",
       "      <th>Region</th>\n",
       "      <th></th>\n",
       "      <th></th>\n",
       "    </tr>\n",
       "  </thead>\n",
       "  <tbody>\n",
       "    <tr>\n",
       "      <th>Aberdeenshire</th>\n",
       "      <td>185772.565863</td>\n",
       "      <td>147565.603738</td>\n",
       "    </tr>\n",
       "    <tr>\n",
       "      <th>Adur</th>\n",
       "      <td>316619.987187</td>\n",
       "      <td>267596.968250</td>\n",
       "    </tr>\n",
       "    <tr>\n",
       "      <th>Allerdale</th>\n",
       "      <td>153209.895850</td>\n",
       "      <td>132714.469700</td>\n",
       "    </tr>\n",
       "    <tr>\n",
       "      <th>Amber Valley</th>\n",
       "      <td>177332.427062</td>\n",
       "      <td>153964.930512</td>\n",
       "    </tr>\n",
       "    <tr>\n",
       "      <th>Angus</th>\n",
       "      <td>147671.248850</td>\n",
       "      <td>120405.232300</td>\n",
       "    </tr>\n",
       "  </tbody>\n",
       "</table>\n",
       "</div>"
      ],
      "text/plain": [
       "               Average_Price  First_Time_Buyer_Average_Price\n",
       "Region                                                      \n",
       "Aberdeenshire  185772.565863                   147565.603738\n",
       "Adur           316619.987187                   267596.968250\n",
       "Allerdale      153209.895850                   132714.469700\n",
       "Amber Valley   177332.427062                   153964.930512\n",
       "Angus          147671.248850                   120405.232300"
      ]
     },
     "execution_count": 127,
     "metadata": {},
     "output_type": "execute_result"
    }
   ],
   "source": [
    "total_df = pd.merge(avr_house_prices_5, first_time_buyers_5, how='inner', on=['Region_Name']).reset_index()\n",
    "\n",
    "total_df.columns = ['Region', 'Average_Price', 'First_Time_Buyer_Average_Price']\n",
    "\n",
    "total_df = total_df.set_index('Region')\n",
    "\n",
    "total_df.head()"
   ]
  },
  {
   "cell_type": "markdown",
   "metadata": {},
   "source": [
    "#### Adding Unemployment rates"
   ]
  },
  {
   "cell_type": "code",
   "execution_count": 128,
   "metadata": {},
   "outputs": [
    {
     "data": {
      "text/html": [
       "<div>\n",
       "<style scoped>\n",
       "    .dataframe tbody tr th:only-of-type {\n",
       "        vertical-align: middle;\n",
       "    }\n",
       "\n",
       "    .dataframe tbody tr th {\n",
       "        vertical-align: top;\n",
       "    }\n",
       "\n",
       "    .dataframe thead th {\n",
       "        text-align: right;\n",
       "    }\n",
       "</style>\n",
       "<table border=\"1\" class=\"dataframe\">\n",
       "  <thead>\n",
       "    <tr style=\"text-align: right;\">\n",
       "      <th></th>\n",
       "      <th>Employment_16 _to_64_years</th>\n",
       "      <th>Unemployment_16_years_and_over</th>\n",
       "      <th>Inactivity rate_16_to_64_years</th>\n",
       "    </tr>\n",
       "    <tr>\n",
       "      <th>Region</th>\n",
       "      <th></th>\n",
       "      <th></th>\n",
       "      <th></th>\n",
       "    </tr>\n",
       "  </thead>\n",
       "  <tbody>\n",
       "    <tr>\n",
       "      <th>UK</th>\n",
       "      <td>75.9</td>\n",
       "      <td>3.9</td>\n",
       "      <td>21.0</td>\n",
       "    </tr>\n",
       "    <tr>\n",
       "      <th>Great Britain</th>\n",
       "      <td>76.0</td>\n",
       "      <td>3.9</td>\n",
       "      <td>20.8</td>\n",
       "    </tr>\n",
       "    <tr>\n",
       "      <th>England</th>\n",
       "      <td>76.3</td>\n",
       "      <td>3.9</td>\n",
       "      <td>20.6</td>\n",
       "    </tr>\n",
       "    <tr>\n",
       "      <th>North East</th>\n",
       "      <td>71.2</td>\n",
       "      <td>5.8</td>\n",
       "      <td>24.2</td>\n",
       "    </tr>\n",
       "    <tr>\n",
       "      <th>North West</th>\n",
       "      <td>74.5</td>\n",
       "      <td>4.1</td>\n",
       "      <td>22.2</td>\n",
       "    </tr>\n",
       "  </tbody>\n",
       "</table>\n",
       "</div>"
      ],
      "text/plain": [
       "               Employment_16 _to_64_years  Unemployment_16_years_and_over  \\\n",
       "Region                                                                      \n",
       "UK                                   75.9                             3.9   \n",
       "Great Britain                        76.0                             3.9   \n",
       "England                              76.3                             3.9   \n",
       "North East                           71.2                             5.8   \n",
       "North West                           74.5                             4.1   \n",
       "\n",
       "               Inactivity rate_16_to_64_years  \n",
       "Region                                         \n",
       "UK                                       21.0  \n",
       "Great Britain                            20.8  \n",
       "England                                  20.6  \n",
       "North East                               24.2  \n",
       "North West                               22.2  "
      ]
     },
     "execution_count": 128,
     "metadata": {},
     "output_type": "execute_result"
    }
   ],
   "source": [
    "unempl = pd.read_csv('Employment_June_to_August_2019.csv')\n",
    "\n",
    "unempl.columns # ['Region', 'Employment_16 _to_64_years','Unemployment_16_years_and_over', '\n",
    "                        # Inactivity rate_16_to_64_years']\n",
    "\n",
    "# pd.unique(unempl['Region']).size\n",
    "\n",
    "unempl = unempl.set_index('Region')\n",
    "\n",
    "unempl.head()"
   ]
  },
  {
   "cell_type": "markdown",
   "metadata": {},
   "source": [
    "#### Merge with Unemployment Data and First time home buyers data by region"
   ]
  },
  {
   "cell_type": "code",
   "execution_count": 129,
   "metadata": {},
   "outputs": [
    {
     "data": {
      "text/html": [
       "<div>\n",
       "<style scoped>\n",
       "    .dataframe tbody tr th:only-of-type {\n",
       "        vertical-align: middle;\n",
       "    }\n",
       "\n",
       "    .dataframe tbody tr th {\n",
       "        vertical-align: top;\n",
       "    }\n",
       "\n",
       "    .dataframe thead th {\n",
       "        text-align: right;\n",
       "    }\n",
       "</style>\n",
       "<table border=\"1\" class=\"dataframe\">\n",
       "  <thead>\n",
       "    <tr style=\"text-align: right;\">\n",
       "      <th></th>\n",
       "      <th>Average_Price</th>\n",
       "      <th>First_Time_Buyer_Average_Price</th>\n",
       "      <th>Employment_16 _to_64_years</th>\n",
       "      <th>Unemployment_16_years_and_over</th>\n",
       "      <th>Inactivity rate_16_to_64_years</th>\n",
       "    </tr>\n",
       "    <tr>\n",
       "      <th>Region</th>\n",
       "      <th></th>\n",
       "      <th></th>\n",
       "      <th></th>\n",
       "      <th></th>\n",
       "      <th></th>\n",
       "    </tr>\n",
       "  </thead>\n",
       "  <tbody>\n",
       "    <tr>\n",
       "      <th>East Midlands</th>\n",
       "      <td>193960.672587</td>\n",
       "      <td>163313.189838</td>\n",
       "      <td>76.6</td>\n",
       "      <td>4.5</td>\n",
       "      <td>19.6</td>\n",
       "    </tr>\n",
       "    <tr>\n",
       "      <th>England</th>\n",
       "      <td>247876.475675</td>\n",
       "      <td>207920.869462</td>\n",
       "      <td>76.3</td>\n",
       "      <td>3.9</td>\n",
       "      <td>20.6</td>\n",
       "    </tr>\n",
       "    <tr>\n",
       "      <th>Great Britain</th>\n",
       "      <td>234604.070162</td>\n",
       "      <td>195290.394012</td>\n",
       "      <td>76.0</td>\n",
       "      <td>3.9</td>\n",
       "      <td>20.8</td>\n",
       "    </tr>\n",
       "    <tr>\n",
       "      <th>London</th>\n",
       "      <td>472880.310138</td>\n",
       "      <td>412993.502088</td>\n",
       "      <td>74.2</td>\n",
       "      <td>4.6</td>\n",
       "      <td>22.2</td>\n",
       "    </tr>\n",
       "    <tr>\n",
       "      <th>North East</th>\n",
       "      <td>129979.226200</td>\n",
       "      <td>111714.393437</td>\n",
       "      <td>71.2</td>\n",
       "      <td>5.8</td>\n",
       "      <td>24.2</td>\n",
       "    </tr>\n",
       "    <tr>\n",
       "      <th>Scotland</th>\n",
       "      <td>153081.675862</td>\n",
       "      <td>124192.578375</td>\n",
       "      <td>74.3</td>\n",
       "      <td>4.1</td>\n",
       "      <td>22.5</td>\n",
       "    </tr>\n",
       "    <tr>\n",
       "      <th>South East</th>\n",
       "      <td>321724.123550</td>\n",
       "      <td>257532.747637</td>\n",
       "      <td>79.2</td>\n",
       "      <td>3.1</td>\n",
       "      <td>18.1</td>\n",
       "    </tr>\n",
       "    <tr>\n",
       "      <th>South West</th>\n",
       "      <td>256521.400988</td>\n",
       "      <td>211463.949413</td>\n",
       "      <td>81.0</td>\n",
       "      <td>2.4</td>\n",
       "      <td>17.0</td>\n",
       "    </tr>\n",
       "    <tr>\n",
       "      <th>Wales</th>\n",
       "      <td>165370.528612</td>\n",
       "      <td>142883.710400</td>\n",
       "      <td>74.1</td>\n",
       "      <td>4.2</td>\n",
       "      <td>22.5</td>\n",
       "    </tr>\n",
       "    <tr>\n",
       "      <th>West Midlands</th>\n",
       "      <td>186125.395988</td>\n",
       "      <td>161715.545038</td>\n",
       "      <td>74.8</td>\n",
       "      <td>4.0</td>\n",
       "      <td>22.1</td>\n",
       "    </tr>\n",
       "    <tr>\n",
       "      <th>Yorkshire and The Humber</th>\n",
       "      <td>164830.785888</td>\n",
       "      <td>141485.448875</td>\n",
       "      <td>74.0</td>\n",
       "      <td>4.0</td>\n",
       "      <td>22.8</td>\n",
       "    </tr>\n",
       "  </tbody>\n",
       "</table>\n",
       "</div>"
      ],
      "text/plain": [
       "                          Average_Price  First_Time_Buyer_Average_Price  \\\n",
       "Region                                                                    \n",
       "East Midlands             193960.672587                   163313.189838   \n",
       "England                   247876.475675                   207920.869462   \n",
       "Great Britain             234604.070162                   195290.394012   \n",
       "London                    472880.310138                   412993.502088   \n",
       "North East                129979.226200                   111714.393437   \n",
       "Scotland                  153081.675862                   124192.578375   \n",
       "South East                321724.123550                   257532.747637   \n",
       "South West                256521.400988                   211463.949413   \n",
       "Wales                     165370.528612                   142883.710400   \n",
       "West Midlands             186125.395988                   161715.545038   \n",
       "Yorkshire and The Humber  164830.785888                   141485.448875   \n",
       "\n",
       "                          Employment_16 _to_64_years  \\\n",
       "Region                                                 \n",
       "East Midlands                                   76.6   \n",
       "England                                         76.3   \n",
       "Great Britain                                   76.0   \n",
       "London                                          74.2   \n",
       "North East                                      71.2   \n",
       "Scotland                                        74.3   \n",
       "South East                                      79.2   \n",
       "South West                                      81.0   \n",
       "Wales                                           74.1   \n",
       "West Midlands                                   74.8   \n",
       "Yorkshire and The Humber                        74.0   \n",
       "\n",
       "                          Unemployment_16_years_and_over  \\\n",
       "Region                                                     \n",
       "East Midlands                                        4.5   \n",
       "England                                              3.9   \n",
       "Great Britain                                        3.9   \n",
       "London                                               4.6   \n",
       "North East                                           5.8   \n",
       "Scotland                                             4.1   \n",
       "South East                                           3.1   \n",
       "South West                                           2.4   \n",
       "Wales                                                4.2   \n",
       "West Midlands                                        4.0   \n",
       "Yorkshire and The Humber                             4.0   \n",
       "\n",
       "                          Inactivity rate_16_to_64_years  \n",
       "Region                                                    \n",
       "East Midlands                                       19.6  \n",
       "England                                             20.6  \n",
       "Great Britain                                       20.8  \n",
       "London                                              22.2  \n",
       "North East                                          24.2  \n",
       "Scotland                                            22.5  \n",
       "South East                                          18.1  \n",
       "South West                                          17.0  \n",
       "Wales                                               22.5  \n",
       "West Midlands                                       22.1  \n",
       "Yorkshire and The Humber                            22.8  "
      ]
     },
     "execution_count": 129,
     "metadata": {},
     "output_type": "execute_result"
    }
   ],
   "source": [
    "df_both = pd.merge(total_df, unempl, how='inner', on=['Region'])#.reset_index()\n",
    "\n",
    "df_both['Average_Price'].size\n",
    "\n",
    "#df_both.head()\n",
    "\n",
    "#df_both.columns\n",
    "\n",
    "df_both"
   ]
  },
  {
   "cell_type": "markdown",
   "metadata": {},
   "source": [
    "# Define the arrays"
   ]
  },
  {
   "cell_type": "code",
   "execution_count": 130,
   "metadata": {},
   "outputs": [
    {
     "data": {
      "image/png": "[encoded data removed]",
      "text/plain": [
       "<Figure size 432x288 with 1 Axes>"
      ]
     },
     "metadata": {},
     "output_type": "display_data"
    }
   ],
   "source": [
    "# avr_price_array = df_both['Average_Price'].to_numpy()\n",
    "\n",
    "frist_time_avr_price_array = df_both['First_Time_Buyer_Average_Price'].to_numpy()\n",
    "\n",
    "employ_array = df_both['Employment_16 _to_64_years'].to_numpy()\n",
    "\n",
    "unemploy_array = df_both['Unemployment_16_years_and_over'].to_numpy()\n",
    "\n",
    "inact_array = df_both['Inactivity rate_16_to_64_years'].to_numpy()\n",
    "\n",
    "plt.scatter(np.log(frist_time_avr_price_array), np.log(employ_array), color='gray');"
   ]
  },
  {
   "cell_type": "code",
   "execution_count": 131,
   "metadata": {},
   "outputs": [
    {
     "data": {
      "text/plain": [
       "(11, 1)"
      ]
     },
     "execution_count": 131,
     "metadata": {},
     "output_type": "execute_result"
    }
   ],
   "source": [
    "# data prep\n",
    "x_vals = np.log(employ_array)\n",
    "y_vals = np.log(frist_time_avr_price_array)\n",
    "\n",
    "x_vals = np.reshape(x_vals, (-1,1))\n",
    "y_vals = np.reshape(y_vals, (-1,1))\n",
    "x_vals.shape"
   ]
  },
  {
   "cell_type": "markdown",
   "metadata": {},
   "source": [
    "# OLS with Scikit-learn"
   ]
  },
  {
   "cell_type": "code",
   "execution_count": 249,
   "metadata": {},
   "outputs": [
    {
     "data": {
      "text/plain": [
       "0.20272387193327035"
      ]
     },
     "execution_count": 249,
     "metadata": {},
     "output_type": "execute_result"
    }
   ],
   "source": [
    "reg = LinearRegression().fit(x_vals, y_vals)\n",
    "reg.score(x_vals, y_vals)"
   ]
  },
  {
   "cell_type": "code",
   "execution_count": 36,
   "metadata": {},
   "outputs": [
    {
     "name": "stdout",
     "output_type": "stream",
     "text": [
      "Model coefficient: [[4.72539798]] Model slope: [-8.33201425]\n"
     ]
    }
   ],
   "source": [
    "print('Model coefficient:', reg.coef_ , 'Model slope:', reg.intercept_)"
   ]
  },
  {
   "cell_type": "code",
   "execution_count": 250,
   "metadata": {},
   "outputs": [],
   "source": [
    "pred = reg.predict(x_vals)"
   ]
  },
  {
   "cell_type": "code",
   "execution_count": 251,
   "metadata": {},
   "outputs": [
    {
     "data": {
      "image/png": "[encoded data removed]",
      "text/plain": [
       "<Figure size 576x360 with 1 Axes>"
      ]
     },
     "metadata": {},
     "output_type": "display_data"
    }
   ],
   "source": [
    "fig = plt.figure(figsize=(8,5))\n",
    "\n",
    "plt.scatter(x_vals, y_vals, color='black', marker = 'o')\n",
    "plt.plot(x_vals, pred, color='red', linewidth = 2)\n",
    "\n",
    "plt.xlabel(\"Log of % of employed people aged from 16 to 64\")\n",
    "plt.ylabel(\"Log of average house price for first time buyer, in the UK\")\n",
    "\n",
    "fig.savefig('OLS_with_London_outlier.png', dpi=300)"
   ]
  },
  {
   "cell_type": "code",
   "execution_count": 252,
   "metadata": {},
   "outputs": [
    {
     "data": {
      "text/plain": [
       "array([1.09118955])"
      ]
     },
     "execution_count": 252,
     "metadata": {},
     "output_type": "execute_result"
    }
   ],
   "source": [
    "RSS_Scikit_learn = sum( (y_vals - pred)**2 )\n",
    "RSS_Scikit_learn"
   ]
  },
  {
   "cell_type": "code",
   "execution_count": null,
   "metadata": {},
   "outputs": [],
   "source": [
    "sns.residplot(pred.reshape(-1),'waiting', data=faithful,lowess=True,\n",
    "                                  line_kws={'color': 'red', 'lw': 1, 'alpha': 1})\n",
    "plt.xlabel(\"Fitted values\")\n",
    "plt.title('Residual plot')"
   ]
  },
  {
   "cell_type": "code",
   "execution_count": 24,
   "metadata": {},
   "outputs": [
    {
     "data": {
      "text/plain": [
       "<matplotlib.collections.LineCollection at 0x2989c1328b0>"
      ]
     },
     "execution_count": 24,
     "metadata": {},
     "output_type": "execute_result"
    },
    {
     "data": {
      "image/png": "[encoded data removed]",
      "text/plain": [
       "<Figure size 432x288 with 1 Axes>"
      ]
     },
     "metadata": {},
     "output_type": "display_data"
    }
   ],
   "source": [
    "residuals = pred - y_vals\n",
    "\n",
    "plt.scatter(pred, residuals, color = 'black')\n",
    "\n",
    "plt.hlines(y=0, xmin=11.8, xmax=12.5, color='grey')\n",
    "\n",
    "#plt.ylim(-1,1)"
   ]
  },
  {
   "cell_type": "code",
   "execution_count": 26,
   "metadata": {},
   "outputs": [
    {
     "name": "stderr",
     "output_type": "stream",
     "text": [
      "C:\\Users\\iveli\\anaconda3\\lib\\site-packages\\seaborn\\_decorators.py:36: FutureWarning: Pass the following variables as keyword args: x, y. From version 0.12, the only valid positional argument will be `data`, and passing other arguments without an explicit keyword will result in an error or misinterpretation.\n",
      "  warnings.warn(\n"
     ]
    },
    {
     "data": {
      "text/plain": [
       "<AxesSubplot:>"
      ]
     },
     "execution_count": 26,
     "metadata": {},
     "output_type": "execute_result"
    },
    {
     "data": {
      "image/png": "[encoded data removed]",
      "text/plain": [
       "<Figure size 432x288 with 1 Axes>"
      ]
     },
     "metadata": {},
     "output_type": "display_data"
    }
   ],
   "source": [
    "sns.residplot(pred,residuals, lowess=True)"
   ]
  },
  {
   "cell_type": "code",
   "execution_count": 21,
   "metadata": {},
   "outputs": [
    {
     "data": {
      "image/png": "[encoded data removed]",
      "text/plain": [
       "<Figure size 792x288 with 2 Axes>"
      ]
     },
     "metadata": {
      "needs_background": "light"
     },
     "output_type": "display_data"
    }
   ],
   "source": [
    "fig1, (ax1, ax2) = plt.subplots(1, 2, figsize=(11,4))\n",
    "\n",
    "ax1.scatter(x_vals, y_vals, color='black', marker = 'o')\n",
    "ax1.plot(x_vals, prediction, color='red', linewidth = 2)\n",
    "\n",
    "ax1.set_xlabel('Log of percentage employed people aged from 16 to 64')\n",
    "ax1.set_ylabel('Log of first time buyer average house price')\n",
    "\n",
    "ax2.scatter(range(0,residuals.size), residuals, color = 'black')\n",
    "ax2.hlines(y=0, xmin=0, xmax=10, color='grey')\n",
    "\n",
    "\n",
    "ax2.set_ylabel('Residuals')\n",
    "ax2.set_ylim([-1, 1])\n",
    "\n",
    "fig.tight_layout()"
   ]
  },
  {
   "cell_type": "code",
   "execution_count": 22,
   "metadata": {},
   "outputs": [],
   "source": [
    "# fig1.savefig('Least_squares_with_London.png', dpi=300)"
   ]
  },
  {
   "cell_type": "markdown",
   "metadata": {},
   "source": [
    "# The ordinary least squares method MM\n",
    "\n",
    "\n",
    "Think it would owrk with data where n>m i.e more columns than rows."
   ]
  },
  {
   "cell_type": "markdown",
   "metadata": {},
   "source": [
    "## First iterate calculations - finding bottom vector A for data"
   ]
  },
  {
   "cell_type": "code",
   "execution_count": 212,
   "metadata": {},
   "outputs": [
    {
     "data": {
      "text/plain": [
       "array([[4.33859708],\n",
       "       [4.33467294],\n",
       "       [4.33073334],\n",
       "       [4.30676415],\n",
       "       [4.26549282],\n",
       "       [4.30811095],\n",
       "       [4.3719763 ],\n",
       "       [4.39444915],\n",
       "       [4.30541553],\n",
       "       [4.31481788],\n",
       "       [4.30406509]])"
      ]
     },
     "execution_count": 212,
     "metadata": {},
     "output_type": "execute_result"
    }
   ],
   "source": [
    "# data prep\n",
    "# x_vals = np.log(employ_array)\n",
    "# y_vals = np.log(frist_time_avr_price_array)\n",
    "\n",
    "x_vals \n",
    "# y_vals"
   ]
  },
  {
   "cell_type": "code",
   "execution_count": 213,
   "metadata": {},
   "outputs": [
    {
     "data": {
      "text/plain": [
       "array([[1.        , 1.        , 1.        , 1.        , 1.        ,\n",
       "        1.        , 1.        , 1.        , 1.        , 1.        ,\n",
       "        1.        ],\n",
       "       [4.33859708, 4.33467294, 4.33073334, 4.30676415, 4.26549282,\n",
       "        4.30811095, 4.3719763 , 4.39444915, 4.30541553, 4.31481788,\n",
       "        4.30406509]])"
      ]
     },
     "execution_count": 213,
     "metadata": {},
     "output_type": "execute_result"
    }
   ],
   "source": [
    "X = np.append(np.ones((x_vals.shape[0],1)), x_vals,axis = 1)\n",
    "X_T = X.T\n",
    "X_T"
   ]
  },
  {
   "cell_type": "code",
   "execution_count": 142,
   "metadata": {},
   "outputs": [
    {
     "data": {
      "text/plain": [
       "(2, 11)"
      ]
     },
     "execution_count": 142,
     "metadata": {},
     "output_type": "execute_result"
    }
   ],
   "source": [
    "X_T.shape"
   ]
  },
  {
   "cell_type": "code",
   "execution_count": 214,
   "metadata": {},
   "outputs": [
    {
     "data": {
      "text/plain": [
       "array([[11.        ],\n",
       "       [47.57509524]])"
      ]
     },
     "execution_count": 214,
     "metadata": {},
     "output_type": "execute_result"
    }
   ],
   "source": [
    "# p-value is 1\n",
    "\n",
    "norm = np.linalg.norm(X_T, ord=1, axis=1).reshape(-1,1) # row wise norm\n",
    "norm"
   ]
  },
  {
   "cell_type": "code",
   "execution_count": 215,
   "metadata": {},
   "outputs": [
    {
     "data": {
      "text/plain": [
       "array([[0.09090909, 0.09090909, 0.09090909, 0.09090909, 0.09090909,\n",
       "        0.09090909, 0.09090909, 0.09090909, 0.09090909, 0.09090909,\n",
       "        0.09090909],\n",
       "       [0.09119471, 0.09111223, 0.09102942, 0.0905256 , 0.0896581 ,\n",
       "        0.09055391, 0.09189632, 0.09236869, 0.09049726, 0.09069489,\n",
       "        0.09046887]])"
      ]
     },
     "execution_count": 215,
     "metadata": {},
     "output_type": "execute_result"
    }
   ],
   "source": [
    "alpha = np.absolute(X_T)/norm\n",
    "alpha"
   ]
  },
  {
   "cell_type": "code",
   "execution_count": 146,
   "metadata": {},
   "outputs": [
    {
     "data": {
      "text/plain": [
       "array([[ 11.        ,  11.        ,  11.        ,  11.        ,\n",
       "         11.        ,  11.        ,  11.        ,  11.        ,\n",
       "         11.        ,  11.        ,  11.        ],\n",
       "       [206.40916913, 206.22247787, 206.03505112, 204.89471462,\n",
       "        202.93122708, 204.95878883, 207.9971888 , 209.06633706,\n",
       "        204.830554  , 205.27787182, 204.76630673]])"
      ]
     },
     "execution_count": 146,
     "metadata": {},
     "output_type": "execute_result"
    }
   ],
   "source": [
    "np.square(X_T)/alpha"
   ]
  },
  {
   "cell_type": "code",
   "execution_count": 216,
   "metadata": {},
   "outputs": [
    {
     "data": {
      "text/plain": [
       "array([ 121.        , 2263.38968706])"
      ]
     },
     "execution_count": 216,
     "metadata": {},
     "output_type": "execute_result"
    }
   ],
   "source": [
    "A = np.sum(np.square(X_T)/alpha, axis=1)\n",
    "A  ## bottom vector"
   ]
  },
  {
   "cell_type": "code",
   "execution_count": 217,
   "metadata": {},
   "outputs": [
    {
     "data": {
      "text/plain": [
       "array([[ 121.        ],\n",
       "       [2263.38968706]])"
      ]
     },
     "execution_count": 217,
     "metadata": {},
     "output_type": "execute_result"
    }
   ],
   "source": [
    "A = A.reshape(2,1)\n",
    "A"
   ]
  },
  {
   "cell_type": "code",
   "execution_count": 166,
   "metadata": {},
   "outputs": [
    {
     "data": {
      "text/plain": [
       "(2, 1)"
      ]
     },
     "execution_count": 166,
     "metadata": {},
     "output_type": "execute_result"
    }
   ],
   "source": [
    "A.shape"
   ]
  },
  {
   "cell_type": "markdown",
   "metadata": {},
   "source": [
    "-------"
   ]
  },
  {
   "cell_type": "code",
   "execution_count": 148,
   "metadata": {},
   "outputs": [
    {
     "data": {
      "text/plain": [
       "array([[1.],\n",
       "       [1.]])"
      ]
     },
     "execution_count": 148,
     "metadata": {},
     "output_type": "execute_result"
    }
   ],
   "source": [
    "# initial values of parameters\n",
    "\n",
    "beta = np.ones((2,1))\n",
    "beta"
   ]
  },
  {
   "cell_type": "code",
   "execution_count": 150,
   "metadata": {},
   "outputs": [
    {
     "data": {
      "text/plain": [
       "array([[5.33859708],\n",
       "       [5.33467294],\n",
       "       [5.33073334],\n",
       "       [5.30676415],\n",
       "       [5.26549282],\n",
       "       [5.30811095],\n",
       "       [5.3719763 ],\n",
       "       [5.39444915],\n",
       "       [5.30541553],\n",
       "       [5.31481788],\n",
       "       [5.30406509]])"
      ]
     },
     "execution_count": 150,
     "metadata": {},
     "output_type": "execute_result"
    }
   ],
   "source": [
    "pred = np.matmul(X_T.T, beta)\n",
    "pred  # 11,1"
   ]
  },
  {
   "cell_type": "code",
   "execution_count": 172,
   "metadata": {},
   "outputs": [
    {
     "data": {
      "text/plain": [
       "array([[6.66482797],\n",
       "       [6.91023991],\n",
       "       [6.85150959],\n",
       "       [7.62442299],\n",
       "       [6.35820802],\n",
       "       [6.42147774],\n",
       "       [7.08692587],\n",
       "       [6.86736066],\n",
       "       [6.56437083],\n",
       "       [6.67877629],\n",
       "       [6.55588706]])"
      ]
     },
     "execution_count": 172,
     "metadata": {},
     "output_type": "execute_result"
    }
   ],
   "source": [
    "y_vals - pred"
   ]
  },
  {
   "cell_type": "code",
   "execution_count": 153,
   "metadata": {},
   "outputs": [
    {
     "data": {
      "text/plain": [
       "array([[ 74.58400693],\n",
       "       [322.62276625]])"
      ]
     },
     "execution_count": 153,
     "metadata": {},
     "output_type": "execute_result"
    }
   ],
   "source": [
    "res = np.matmul(X_T, (y_vals - pred))\n",
    "res"
   ]
  },
  {
   "cell_type": "code",
   "execution_count": 175,
   "metadata": {},
   "outputs": [
    {
     "data": {
      "text/plain": [
       "array([[1.61639675],\n",
       "       [1.14253965]])"
      ]
     },
     "execution_count": 175,
     "metadata": {},
     "output_type": "execute_result"
    }
   ],
   "source": [
    "res/A + beta"
   ]
  },
  {
   "cell_type": "markdown",
   "metadata": {},
   "source": [
    "# OLS Example with MM"
   ]
  },
  {
   "cell_type": "markdown",
   "metadata": {},
   "source": [
    "## OLS Example 1"
   ]
  },
  {
   "cell_type": "code",
   "execution_count": 245,
   "metadata": {},
   "outputs": [],
   "source": [
    "# initial values of parameters\n",
    "\n",
    "# A is A for all \n",
    "\n",
    "beta = np.array([[-2],[2]])\n",
    "b = 0\n",
    "\n",
    "for i in range(0,50):\n",
    "    \n",
    "    pred = np.matmul(X_T.T, beta)  \n",
    "    \n",
    "    res = np.matmul(X_T, (y_vals - pred))\n",
    "    \n",
    "    beta = res/A + beta\n",
    "    \n",
    "    b = i\n",
    "    \n",
    "    # print('For i = {}, beta is {}'.format(b,beta))"
   ]
  },
  {
   "cell_type": "code",
   "execution_count": 246,
   "metadata": {},
   "outputs": [],
   "source": [
    "pred = beta[1]*x_vals + beta[0]\n",
    "# pred"
   ]
  },
  {
   "cell_type": "code",
   "execution_count": 247,
   "metadata": {},
   "outputs": [
    {
     "data": {
      "text/plain": [
       "Text(0, 0.5, 'Log of the average house price for a first time buyer')"
      ]
     },
     "execution_count": 247,
     "metadata": {},
     "output_type": "execute_result"
    },
    {
     "data": {
      "image/png": "[encoded data removed]",
      "text/plain": [
       "<Figure size 576x360 with 1 Axes>"
      ]
     },
     "metadata": {},
     "output_type": "display_data"
    }
   ],
   "source": [
    "fig = plt.figure(figsize=(8,5))\n",
    "\n",
    "plt.scatter(x_vals, y_vals, color='black', marker = 'o')\n",
    "plt.plot(x_vals, pred,  color='red', linewidth = 2)\n",
    "\n",
    "plt.xlabel(\"Log of % of employed people aged 16 to 64, in the UK\")\n",
    "plt.ylabel(\"Log of the average house price for a first time buyer\")\n",
    "\n",
    "# fig.savefig('LAD_with_London_outlier.png', dpi=300)"
   ]
  },
  {
   "cell_type": "code",
   "execution_count": 248,
   "metadata": {},
   "outputs": [
    {
     "data": {
      "text/plain": [
       "array([1.14569598])"
      ]
     },
     "execution_count": 248,
     "metadata": {},
     "output_type": "execute_result"
    }
   ],
   "source": [
    "RSS1 = sum( (y_vals - pred)**2 )\n",
    "RSS1"
   ]
  },
  {
   "cell_type": "code",
   "execution_count": null,
   "metadata": {},
   "outputs": [],
   "source": []
  },
  {
   "cell_type": "markdown",
   "metadata": {},
   "source": [
    "## OLS Example 2"
   ]
  },
  {
   "cell_type": "code",
   "execution_count": 238,
   "metadata": {},
   "outputs": [],
   "source": [
    "# initial values of parameters\n",
    "\n",
    "# A is A for all \n",
    "\n",
    "beta = np.zeros((2,1))\n",
    "b = 0\n",
    "\n",
    "for i in range(0,50):\n",
    "    \n",
    "    pred = np.matmul(X_T.T, beta)  \n",
    "    \n",
    "    res = np.matmul(X_T, (y_vals - pred))\n",
    "    \n",
    "    beta = res/A + beta\n",
    "    \n",
    "    b = i\n",
    "    \n",
    "    # print('For i = {}, beta is {}'.format(b,beta))"
   ]
  },
  {
   "cell_type": "code",
   "execution_count": 240,
   "metadata": {},
   "outputs": [],
   "source": [
    "pred = beta[1]*x_vals + beta[0]\n",
    "# pred"
   ]
  },
  {
   "cell_type": "code",
   "execution_count": 241,
   "metadata": {},
   "outputs": [
    {
     "data": {
      "text/plain": [
       "Text(0, 0.5, 'Log of the average house price for a first time buyer')"
      ]
     },
     "execution_count": 241,
     "metadata": {},
     "output_type": "execute_result"
    },
    {
     "data": {
      "image/png": "[encoded data removed]",
      "text/plain": [
       "<Figure size 576x360 with 1 Axes>"
      ]
     },
     "metadata": {},
     "output_type": "display_data"
    }
   ],
   "source": [
    "fig = plt.figure(figsize=(8,5))\n",
    "\n",
    "plt.scatter(x_vals, y_vals, color='black', marker = 'o')\n",
    "plt.plot(x_vals, pred,  color='red', linewidth = 2)\n",
    "\n",
    "plt.xlabel(\"Log of % of employed people aged 16 to 64, in the UK\")\n",
    "plt.ylabel(\"Log of the average house price for a first time buyer\")\n",
    "\n",
    "# fig.savefig('LAD_with_London_outlier.png', dpi=300)"
   ]
  },
  {
   "cell_type": "code",
   "execution_count": 244,
   "metadata": {},
   "outputs": [
    {
     "data": {
      "text/plain": [
       "array([1.2286019])"
      ]
     },
     "execution_count": 244,
     "metadata": {},
     "output_type": "execute_result"
    }
   ],
   "source": [
    "RSS2 = sum( (y_vals - pred)**2 )\n",
    "RSS2"
   ]
  },
  {
   "cell_type": "code",
   "execution_count": null,
   "metadata": {},
   "outputs": [],
   "source": []
  },
  {
   "cell_type": "markdown",
   "metadata": {},
   "source": [
    "## OLS Example 3"
   ]
  },
  {
   "cell_type": "code",
   "execution_count": 277,
   "metadata": {},
   "outputs": [
    {
     "name": "stdout",
     "output_type": "stream",
     "text": [
      "For i = 0, beta is [[-1.50405858]\n",
      " [ 2.11468327]]\n",
      "For i = 1, beta is [[-1.09829421]\n",
      " [ 2.20851576]]\n",
      "For i = 2, beta is [[-0.76631082]\n",
      " [ 2.28528859]]\n",
      "For i = 3, beta is [[-0.49469347]\n",
      " [ 2.34810356]]\n",
      "For i = 4, beta is [[-0.27246637]\n",
      " [ 2.3994985 ]]\n",
      "For i = 5, beta is [[-0.09064932]\n",
      " [ 2.44154981]]\n",
      "For i = 6, beta is [[0.05810506]\n",
      " [2.47595635]]\n",
      "For i = 7, beta is [[0.17980826]\n",
      " [2.50410811]]\n",
      "For i = 8, beta is [[0.27937875]\n",
      " [2.52714234]]\n",
      "For i = 9, beta is [[0.36084072]\n",
      " [2.54598951]]\n",
      "For i = 10, beta is [[0.42748668]\n",
      " [2.56141091]]\n",
      "For i = 11, beta is [[0.48201048]\n",
      " [2.57402943]]\n",
      "For i = 12, beta is [[0.5266162 ]\n",
      " [2.58435468]]\n",
      "For i = 13, beta is [[0.56310714]\n",
      " [2.59280363]]\n",
      "For i = 14, beta is [[0.59295874]\n",
      " [2.59971743]]\n",
      "For i = 15, beta is [[0.61737818]\n",
      " [2.6053752 ]]\n",
      "For i = 16, beta is [[0.63735313]\n",
      " [2.61000531]]\n",
      "For i = 17, beta is [[0.6536917 ]\n",
      " [2.61379462]]\n",
      "For i = 18, beta is [[0.66705505]\n",
      " [2.616896  ]]\n",
      "For i = 19, beta is [[0.67798414]\n",
      " [2.61943453]]\n",
      "For i = 20, beta is [[0.68692157]\n",
      " [2.62151254]]\n",
      "For i = 21, beta is [[0.69422947]\n",
      " [2.62321378]]\n",
      "For i = 22, beta is [[0.70020412]\n",
      " [2.62460674]]\n",
      "For i = 23, beta is [[0.70508794]\n",
      " [2.62574747]]\n",
      "For i = 24, beta is [[0.70907925]\n",
      " [2.62668185]]\n",
      "For i = 25, beta is [[0.71234033]\n",
      " [2.62744737]]\n",
      "For i = 26, beta is [[0.71500397]\n",
      " [2.62807476]]\n",
      "For i = 27, beta is [[0.71717877]\n",
      " [2.62858912]]\n",
      "For i = 28, beta is [[0.71895363]\n",
      " [2.629011  ]]\n",
      "For i = 29, beta is [[0.72040126]\n",
      " [2.62935722]]\n",
      "For i = 30, beta is [[0.72158117]\n",
      " [2.62964154]]\n",
      "For i = 31, beta is [[0.72254202]\n",
      " [2.6298752 ]]\n",
      "For i = 32, beta is [[0.72332364]\n",
      " [2.63006743]]\n",
      "For i = 33, beta is [[0.72395863]\n",
      " [2.63022575]]\n",
      "For i = 34, beta is [[0.72447364]\n",
      " [2.63035633]]\n",
      "For i = 35, beta is [[0.7248905 ]\n",
      " [2.63046421]]\n",
      "For i = 36, beta is [[0.72522703]\n",
      " [2.63055353]]\n",
      "For i = 37, beta is [[0.72549786]\n",
      " [2.63062765]]\n",
      "For i = 38, beta is [[0.72571493]\n",
      " [2.63068934]]\n",
      "For i = 39, beta is [[0.725888  ]\n",
      " [2.63074085]]\n",
      "For i = 40, beta is [[0.72602509]\n",
      " [2.63078405]]\n",
      "For i = 41, beta is [[0.72613273]\n",
      " [2.63082044]]\n",
      "For i = 42, beta is [[0.72621628]\n",
      " [2.63085125]]\n",
      "For i = 43, beta is [[0.72628012]\n",
      " [2.63087751]]\n",
      "For i = 44, beta is [[0.72632783]\n",
      " [2.63090004]]\n",
      "For i = 45, beta is [[0.72636234]\n",
      " [2.63091952]]\n",
      "For i = 46, beta is [[0.72638606]\n",
      " [2.6309365 ]]\n",
      "For i = 47, beta is [[0.72640094]\n",
      " [2.63095144]]\n",
      "For i = 48, beta is [[0.7264086 ]\n",
      " [2.63096471]]\n",
      "For i = 49, beta is [[0.72641034]\n",
      " [2.63097661]]\n"
     ]
    }
   ],
   "source": [
    "# initial values of parameters\n",
    "\n",
    "# A is A for all \n",
    "\n",
    "# beta = np.array([[-10],[2]]) we like\n",
    "# beta = np.array([[-10],[5]])  ## perfect starting point! = Scikit-learn regression!\n",
    "beta = np.array([[-2],[2]])\n",
    "b = 0\n",
    "\n",
    "for i in range(0,50):\n",
    "    \n",
    "    pred = np.matmul(X_T.T, beta)  \n",
    "    \n",
    "    res = np.matmul(X_T, (y_vals - pred))\n",
    "    \n",
    "    beta = res/A + beta\n",
    "    \n",
    "    b = i\n",
    "    \n",
    "    print('For i = {}, beta is {}'.format(b,beta))"
   ]
  },
  {
   "cell_type": "code",
   "execution_count": 278,
   "metadata": {},
   "outputs": [],
   "source": [
    "pred = beta[1]*x_vals + beta[0]\n",
    "# pred"
   ]
  },
  {
   "cell_type": "code",
   "execution_count": 282,
   "metadata": {},
   "outputs": [
    {
     "data": {
      "image/png": "[encoded data removed]",
      "text/plain": [
       "<Figure size 576x360 with 1 Axes>"
      ]
     },
     "metadata": {},
     "output_type": "display_data"
    }
   ],
   "source": [
    "fig = plt.figure(figsize=(8,5))\n",
    "\n",
    "plt.scatter(x_vals, y_vals, color='black', marker = 'o')\n",
    "plt.plot(x_vals, pred,  color='red', linewidth = 2)\n",
    "\n",
    "plt.xlabel(\"Log of % of employed people aged 16 to 64, in the UK\")\n",
    "plt.ylabel(\"Log of the average house price for a first time buyer\")\n",
    "\n",
    "fig.savefig('OLS_with_London_outlier.png', dpi=300)"
   ]
  },
  {
   "cell_type": "code",
   "execution_count": 280,
   "metadata": {},
   "outputs": [
    {
     "name": "stdout",
     "output_type": "stream",
     "text": [
      "MM [1.14569598] Scikit-learn: [1.09118955]\n"
     ]
    }
   ],
   "source": [
    "RSS3 = sum( (y_vals - pred)**2 )\n",
    "print('MM', RSS3, 'Scikit-learn:' ,RSS_Scikit_learn)"
   ]
  },
  {
   "cell_type": "markdown",
   "metadata": {},
   "source": [
    "# Trying to find OLS accurate code using a small example i made"
   ]
  },
  {
   "cell_type": "code",
   "execution_count": 27,
   "metadata": {},
   "outputs": [
    {
     "data": {
      "text/plain": [
       "array([[ 1,  2],\n",
       "       [ 4,  6],\n",
       "       [ 8, 10]])"
      ]
     },
     "execution_count": 27,
     "metadata": {},
     "output_type": "execute_result"
    }
   ],
   "source": [
    "z = np.array([ [1,2],[4,6],[8,10] ])\n",
    "z"
   ]
  },
  {
   "cell_type": "code",
   "execution_count": 30,
   "metadata": {},
   "outputs": [
    {
     "data": {
      "text/plain": [
       "array([[0.5, 1. ],\n",
       "       [2. , 3. ],\n",
       "       [4. , 5. ]])"
      ]
     },
     "execution_count": 30,
     "metadata": {},
     "output_type": "execute_result"
    }
   ],
   "source": [
    "s=2\n",
    "z/s"
   ]
  },
  {
   "cell_type": "code",
   "execution_count": 29,
   "metadata": {},
   "outputs": [
    {
     "data": {
      "text/plain": [
       "array([[0.5, 1. ],\n",
       "       [2. , 3. ],\n",
       "       [4. , 5. ]])"
      ]
     },
     "execution_count": 29,
     "metadata": {},
     "output_type": "execute_result"
    }
   ],
   "source": [
    "t = np.array([ [2,2],[2,2],[2,2] ])\n",
    "z/t"
   ]
  },
  {
   "cell_type": "markdown",
   "metadata": {},
   "source": [
    "Element-wise squaring of a matrix\n",
    "\n",
    "z = np.array([[0,1],[2,4]])\n",
    "\n",
    "np.square(z)\n",
    "\n",
    "np.power(z, 2)"
   ]
  },
  {
   "cell_type": "code",
   "execution_count": 186,
   "metadata": {},
   "outputs": [
    {
     "data": {
      "text/plain": [
       "array([[ 1, -1,  2],\n",
       "       [-1,  2,  2]])"
      ]
     },
     "execution_count": 186,
     "metadata": {},
     "output_type": "execute_result"
    }
   ],
   "source": [
    "X = np.array([[1, -1, 2], [-1, 2, 2]])\n",
    "X # 2,3 matrix"
   ]
  },
  {
   "cell_type": "markdown",
   "metadata": {},
   "source": [
    "The bottom vector"
   ]
  },
  {
   "cell_type": "code",
   "execution_count": 187,
   "metadata": {},
   "outputs": [
    {
     "data": {
      "text/plain": [
       "array([[4.],\n",
       "       [5.]])"
      ]
     },
     "execution_count": 187,
     "metadata": {},
     "output_type": "execute_result"
    }
   ],
   "source": [
    "# p-value is 1\n",
    "\n",
    "norm = np.linalg.norm(X, ord=1, axis=1).reshape(2,1) # row wise norm\n",
    "norm"
   ]
  },
  {
   "cell_type": "code",
   "execution_count": 188,
   "metadata": {},
   "outputs": [
    {
     "data": {
      "text/plain": [
       "array([[0.25, 0.25, 0.5 ],\n",
       "       [0.2 , 0.4 , 0.4 ]])"
      ]
     },
     "execution_count": 188,
     "metadata": {},
     "output_type": "execute_result"
    }
   ],
   "source": [
    "alpha = np.absolute(X)/norm\n",
    "alpha"
   ]
  },
  {
   "cell_type": "code",
   "execution_count": 189,
   "metadata": {},
   "outputs": [
    {
     "data": {
      "text/plain": [
       "array([[1, 1, 4],\n",
       "       [1, 4, 4]], dtype=int32)"
      ]
     },
     "execution_count": 189,
     "metadata": {},
     "output_type": "execute_result"
    }
   ],
   "source": [
    "np.square(X)"
   ]
  },
  {
   "cell_type": "code",
   "execution_count": 190,
   "metadata": {},
   "outputs": [
    {
     "data": {
      "text/plain": [
       "array([[ 4.,  4.,  8.],\n",
       "       [ 5., 10., 10.]])"
      ]
     },
     "execution_count": 190,
     "metadata": {},
     "output_type": "execute_result"
    }
   ],
   "source": [
    "np.square(X)/alpha"
   ]
  },
  {
   "cell_type": "code",
   "execution_count": 191,
   "metadata": {},
   "outputs": [
    {
     "data": {
      "text/plain": [
       "array([16., 25.])"
      ]
     },
     "execution_count": 191,
     "metadata": {},
     "output_type": "execute_result"
    }
   ],
   "source": [
    "A = np.sum(np.square(X)/alpha, axis=1)\n",
    "A"
   ]
  },
  {
   "cell_type": "code",
   "execution_count": 122,
   "metadata": {},
   "outputs": [],
   "source": [
    "# np.linalg.inv(A)"
   ]
  },
  {
   "cell_type": "markdown",
   "metadata": {},
   "source": [
    "Getting the top vector"
   ]
  },
  {
   "cell_type": "code",
   "execution_count": 192,
   "metadata": {},
   "outputs": [
    {
     "data": {
      "text/plain": [
       "array([[0.22],\n",
       "       [1.56],\n",
       "       [7.56]])"
      ]
     },
     "execution_count": 192,
     "metadata": {},
     "output_type": "execute_result"
    }
   ],
   "source": [
    "y = 2*X[0] + 1.78*X[1]\n",
    "y = y.reshape(3,1)\n",
    "y.shape #3,1\n",
    "y"
   ]
  },
  {
   "cell_type": "code",
   "execution_count": 193,
   "metadata": {},
   "outputs": [
    {
     "data": {
      "text/plain": [
       "array([[1.],\n",
       "       [1.]])"
      ]
     },
     "execution_count": 193,
     "metadata": {},
     "output_type": "execute_result"
    }
   ],
   "source": [
    "beta = np.ones((2,1))\n",
    "beta"
   ]
  },
  {
   "cell_type": "code",
   "execution_count": 86,
   "metadata": {},
   "outputs": [
    {
     "data": {
      "text/plain": [
       "array([[ 1, -1,  2],\n",
       "       [-1,  2,  2]])"
      ]
     },
     "execution_count": 86,
     "metadata": {},
     "output_type": "execute_result"
    }
   ],
   "source": [
    "X"
   ]
  },
  {
   "cell_type": "code",
   "execution_count": 194,
   "metadata": {},
   "outputs": [
    {
     "data": {
      "text/plain": [
       "array([[0.],\n",
       "       [1.],\n",
       "       [4.]])"
      ]
     },
     "execution_count": 194,
     "metadata": {},
     "output_type": "execute_result"
    }
   ],
   "source": [
    "pred = np.matmul(X.T, beta)\n",
    "pred  # 3,1"
   ]
  },
  {
   "cell_type": "code",
   "execution_count": 195,
   "metadata": {},
   "outputs": [
    {
     "data": {
      "text/plain": [
       "array([[6.78],\n",
       "       [8.02]])"
      ]
     },
     "execution_count": 195,
     "metadata": {},
     "output_type": "execute_result"
    }
   ],
   "source": [
    "np.matmul(X, (y - pred))"
   ]
  },
  {
   "cell_type": "code",
   "execution_count": 196,
   "metadata": {},
   "outputs": [
    {
     "data": {
      "text/plain": [
       "array([[0.42375],\n",
       "       [0.3208 ]])"
      ]
     },
     "execution_count": 196,
     "metadata": {},
     "output_type": "execute_result"
    }
   ],
   "source": [
    "np.matmul(X, (y - pred))/A.reshape(2,1)"
   ]
  },
  {
   "cell_type": "code",
   "execution_count": 200,
   "metadata": {},
   "outputs": [
    {
     "name": "stdout",
     "output_type": "stream",
     "text": [
      "For i = 0, beta is [[0.8612]\n",
      " [0.7208]]\n",
      "For i = 1, beta is [[1.3545]\n",
      " [1.1477]]\n",
      "For i = 2, beta is [[1.6361]\n",
      " [1.4011]]\n",
      "For i = 3, beta is [[1.7962]\n",
      " [1.5521]]\n",
      "For i = 4, beta is [[1.8869]\n",
      " [1.6423]]\n",
      "For i = 5, beta is [[1.9379]\n",
      " [1.6964]]\n",
      "For i = 6, beta is [[1.9664]\n",
      " [1.729 ]]\n",
      "For i = 7, beta is [[1.9822]\n",
      " [1.7487]]\n",
      "For i = 8, beta is [[1.9908]\n",
      " [1.7607]]\n",
      "For i = 9, beta is [[1.9955]\n",
      " [1.768 ]]\n",
      "For i = 10, beta is [[1.9979]\n",
      " [1.7725]]\n",
      "For i = 11, beta is [[1.9992]\n",
      " [1.7753]]\n",
      "For i = 12, beta is [[1.9998]\n",
      " [1.777 ]]\n",
      "For i = 13, beta is [[2.    ]\n",
      " [1.7781]]\n",
      "For i = 14, beta is [[2.0001]\n",
      " [1.7788]]\n",
      "For i = 15, beta is [[2.0002]\n",
      " [1.7792]]\n",
      "For i = 16, beta is [[2.0002]\n",
      " [1.7795]]\n",
      "For i = 17, beta is [[2.0001]\n",
      " [1.7797]]\n",
      "For i = 18, beta is [[2.0001]\n",
      " [1.7798]]\n",
      "For i = 19, beta is [[2.0001]\n",
      " [1.7799]]\n",
      "For i = 20, beta is [[2.0001]\n",
      " [1.7799]]\n",
      "For i = 21, beta is [[2.    ]\n",
      " [1.7799]]\n",
      "For i = 22, beta is [[2.  ]\n",
      " [1.78]]\n",
      "For i = 23, beta is [[2.  ]\n",
      " [1.78]]\n",
      "For i = 24, beta is [[2.  ]\n",
      " [1.78]]\n",
      "For i = 25, beta is [[2.  ]\n",
      " [1.78]]\n",
      "For i = 26, beta is [[2.  ]\n",
      " [1.78]]\n",
      "For i = 27, beta is [[2.  ]\n",
      " [1.78]]\n",
      "For i = 28, beta is [[2.  ]\n",
      " [1.78]]\n",
      "For i = 29, beta is [[2.  ]\n",
      " [1.78]]\n",
      "For i = 30, beta is [[2.  ]\n",
      " [1.78]]\n",
      "For i = 31, beta is [[2.  ]\n",
      " [1.78]]\n",
      "For i = 32, beta is [[2.  ]\n",
      " [1.78]]\n",
      "For i = 33, beta is [[2.  ]\n",
      " [1.78]]\n",
      "For i = 34, beta is [[2.  ]\n",
      " [1.78]]\n",
      "For i = 35, beta is [[2.  ]\n",
      " [1.78]]\n",
      "For i = 36, beta is [[2.  ]\n",
      " [1.78]]\n",
      "For i = 37, beta is [[2.  ]\n",
      " [1.78]]\n",
      "For i = 38, beta is [[2.  ]\n",
      " [1.78]]\n",
      "For i = 39, beta is [[2.  ]\n",
      " [1.78]]\n",
      "For i = 40, beta is [[2.  ]\n",
      " [1.78]]\n",
      "For i = 41, beta is [[2.  ]\n",
      " [1.78]]\n",
      "For i = 42, beta is [[2.  ]\n",
      " [1.78]]\n",
      "For i = 43, beta is [[2.  ]\n",
      " [1.78]]\n",
      "For i = 44, beta is [[2.  ]\n",
      " [1.78]]\n",
      "For i = 45, beta is [[2.  ]\n",
      " [1.78]]\n",
      "For i = 46, beta is [[2.  ]\n",
      " [1.78]]\n",
      "For i = 47, beta is [[2.  ]\n",
      " [1.78]]\n",
      "For i = 48, beta is [[2.  ]\n",
      " [1.78]]\n",
      "For i = 49, beta is [[2.  ]\n",
      " [1.78]]\n"
     ]
    }
   ],
   "source": [
    "# initial values of parameters\n",
    "\n",
    "# A is A for all \n",
    "\n",
    "beta = np.zeros((2,1))\n",
    "b = 0\n",
    "\n",
    "for i in range(0,50):\n",
    "    \n",
    "    pred = np.matmul(X.T, beta)  \n",
    "    \n",
    "    res = np.matmul(X, (y - pred))\n",
    "    \n",
    "    beta = res/A.reshape(2,1) + beta\n",
    "    \n",
    "    b = i\n",
    "    \n",
    "    print('For i = {}, beta is {}'.format(b,np.round(beta,4)))"
   ]
  },
  {
   "cell_type": "code",
   "execution_count": null,
   "metadata": {},
   "outputs": [],
   "source": []
  },
  {
   "cell_type": "code",
   "execution_count": null,
   "metadata": {},
   "outputs": [],
   "source": []
  },
  {
   "cell_type": "markdown",
   "metadata": {},
   "source": [
    "# The absolute least deviation method\n",
    "\n",
    "Model $ y = \\theta_0 + \\theta_1 x_1 + \\epsilon $\n",
    "\n",
    "coef update rule : $ \\[ X^T WX \\]^{-1} X^T Wy $\n",
    "\n",
    "Data: employent in an area \n",
    "Prediction: First time buyers avr price of a house"
   ]
  },
  {
   "cell_type": "code",
   "execution_count": 35,
   "metadata": {},
   "outputs": [],
   "source": [
    "# fig2.savefig('Least_squares_no_London.png', dpi=300)\n",
    "\n",
    "# https://www.ons.gov.uk/employmentandlabourmarket/peopleinwork/employmentandemployeetypes/bulletins/regionallabourmarket/october2019#:~:text=Regional%20unemployment&text=The%20highest%20unemployment%20rate%20estimate%20in%20the%20UK%20for%20June,Northern%20Ireland%2C%20at%202.9%25.\n",
    "\n",
    "# https://www.ons.gov.uk/employmentandlabourmarket/peopleinwork/employmentandemployeetypes/bulletins/uklabourmarket/december2020\n",
    "\n",
    "# https://www.gov.uk/government/statistical-data-sets/uk-house-price-index-data-downloads-august-2020"
   ]
  },
  {
   "cell_type": "markdown",
   "metadata": {},
   "source": [
    "### IDK"
   ]
  },
  {
   "cell_type": "code",
   "execution_count": 45,
   "metadata": {},
   "outputs": [
    {
     "data": {
      "text/plain": [
       "(11, 2)"
      ]
     },
     "execution_count": 45,
     "metadata": {},
     "output_type": "execute_result"
    }
   ],
   "source": [
    "X = np.append(np.ones((x_vals.shape[0],1)), x_vals,axis = 1)\n",
    "X.shape"
   ]
  },
  {
   "cell_type": "code",
   "execution_count": 42,
   "metadata": {},
   "outputs": [
    {
     "data": {
      "text/plain": [
       "array([[12.00342505],\n",
       "       [12.24491285],\n",
       "       [12.18224293],\n",
       "       [12.93118714],\n",
       "       [11.62370083],\n",
       "       [11.72958869],\n",
       "       [12.45890217],\n",
       "       [12.26180981],\n",
       "       [11.86978636],\n",
       "       [11.99359418],\n",
       "       [11.85995216]])"
      ]
     },
     "execution_count": 42,
     "metadata": {},
     "output_type": "execute_result"
    }
   ],
   "source": [
    "y = y_vals\n",
    "y"
   ]
  },
  {
   "cell_type": "code",
   "execution_count": 95,
   "metadata": {},
   "outputs": [
    {
     "data": {
      "text/plain": [
       "array([[0.08330956, 0.08166657, 0.08208669, 0.07733242, 0.08603112,\n",
       "        0.08525448, 0.08026389, 0.08155403, 0.08424751, 0.08337784,\n",
       "        0.08431737]])"
      ]
     },
     "execution_count": 95,
     "metadata": {},
     "output_type": "execute_result"
    }
   ],
   "source": [
    "# initial guess \n",
    "beta_update = np.zeros(X.shape[1])\n",
    "\n",
    "W = 1/np.absolute(y.T - np.matmul(beta_update.T,X.T))\n",
    "W"
   ]
  },
  {
   "cell_type": "code",
   "execution_count": 96,
   "metadata": {},
   "outputs": [
    {
     "data": {
      "text/plain": [
       "array([[0., 0., 0., 0., 0., 0., 0., 0., 0., 0., 0.],\n",
       "       [0., 0., 0., 0., 0., 0., 0., 0., 0., 0., 0.],\n",
       "       [0., 0., 0., 0., 0., 0., 0., 0., 0., 0., 0.],\n",
       "       [0., 0., 0., 0., 0., 0., 0., 0., 0., 0., 0.],\n",
       "       [0., 0., 0., 0., 0., 0., 0., 0., 0., 0., 0.],\n",
       "       [0., 0., 0., 0., 0., 0., 0., 0., 0., 0., 0.],\n",
       "       [0., 0., 0., 0., 0., 0., 0., 0., 0., 0., 0.],\n",
       "       [0., 0., 0., 0., 0., 0., 0., 0., 0., 0., 0.],\n",
       "       [0., 0., 0., 0., 0., 0., 0., 0., 0., 0., 0.],\n",
       "       [0., 0., 0., 0., 0., 0., 0., 0., 0., 0., 0.],\n",
       "       [0., 0., 0., 0., 0., 0., 0., 0., 0., 0., 0.]])"
      ]
     },
     "execution_count": 96,
     "metadata": {},
     "output_type": "execute_result"
    }
   ],
   "source": [
    "M = np.zeros((11,11))\n",
    "M"
   ]
  },
  {
   "cell_type": "code",
   "execution_count": 97,
   "metadata": {},
   "outputs": [
    {
     "data": {
      "text/plain": [
       "array([[0.08, 0.  , 0.  , 0.  , 0.  , 0.  , 0.  , 0.  , 0.  , 0.  , 0.  ],\n",
       "       [0.  , 0.08, 0.  , 0.  , 0.  , 0.  , 0.  , 0.  , 0.  , 0.  , 0.  ],\n",
       "       [0.  , 0.  , 0.08, 0.  , 0.  , 0.  , 0.  , 0.  , 0.  , 0.  , 0.  ],\n",
       "       [0.  , 0.  , 0.  , 0.08, 0.  , 0.  , 0.  , 0.  , 0.  , 0.  , 0.  ],\n",
       "       [0.  , 0.  , 0.  , 0.  , 0.09, 0.  , 0.  , 0.  , 0.  , 0.  , 0.  ],\n",
       "       [0.  , 0.  , 0.  , 0.  , 0.  , 0.09, 0.  , 0.  , 0.  , 0.  , 0.  ],\n",
       "       [0.  , 0.  , 0.  , 0.  , 0.  , 0.  , 0.08, 0.  , 0.  , 0.  , 0.  ],\n",
       "       [0.  , 0.  , 0.  , 0.  , 0.  , 0.  , 0.  , 0.08, 0.  , 0.  , 0.  ],\n",
       "       [0.  , 0.  , 0.  , 0.  , 0.  , 0.  , 0.  , 0.  , 0.08, 0.  , 0.  ],\n",
       "       [0.  , 0.  , 0.  , 0.  , 0.  , 0.  , 0.  , 0.  , 0.  , 0.08, 0.  ],\n",
       "       [0.  , 0.  , 0.  , 0.  , 0.  , 0.  , 0.  , 0.  , 0.  , 0.  , 0.08]])"
      ]
     },
     "execution_count": 97,
     "metadata": {},
     "output_type": "execute_result"
    }
   ],
   "source": [
    "np.fill_diagonal(M, W)\n",
    "np.round(M,2)"
   ]
  },
  {
   "cell_type": "code",
   "execution_count": 78,
   "metadata": {},
   "outputs": [
    {
     "data": {
      "text/plain": [
       "(11, 11)"
      ]
     },
     "execution_count": 78,
     "metadata": {},
     "output_type": "execute_result"
    }
   ],
   "source": [
    "M.shape"
   ]
  },
  {
   "cell_type": "markdown",
   "metadata": {},
   "source": [
    "## The loop "
   ]
  },
  {
   "cell_type": "code",
   "execution_count": 98,
   "metadata": {},
   "outputs": [
    {
     "name": "stdout",
     "output_type": "stream",
     "text": [
      "Iteration 0 gives beta [[-8.95]\n",
      " [ 4.87]]\n",
      "Iteration 1 gives beta [[-14.31]\n",
      " [  6.1 ]]\n",
      "Iteration 2 gives beta [[-16.98]\n",
      " [  6.71]]\n",
      "Iteration 3 gives beta [[-18.57]\n",
      " [  7.08]]\n",
      "Iteration 4 gives beta [[-19.28]\n",
      " [  7.25]]\n",
      "Iteration 5 gives beta [[-19.4 ]\n",
      " [  7.27]]\n",
      "Iteration 6 gives beta [[-19.45]\n",
      " [  7.28]]\n",
      "Iteration 7 gives beta [[-19.5]\n",
      " [  7.3]]\n",
      "Iteration 8 gives beta [[-19.55]\n",
      " [  7.31]]\n",
      "Iteration 9 gives beta [[-19.6 ]\n",
      " [  7.32]]\n",
      "Iteration 10 gives beta [[-19.65]\n",
      " [  7.33]]\n",
      "Iteration 11 gives beta [[-19.69]\n",
      " [  7.34]]\n",
      "Iteration 12 gives beta [[-19.74]\n",
      " [  7.35]]\n",
      "Iteration 13 gives beta [[-19.78]\n",
      " [  7.36]]\n",
      "Iteration 14 gives beta [[-19.82]\n",
      " [  7.37]]\n",
      "Iteration 15 gives beta [[-19.86]\n",
      " [  7.38]]\n",
      "Iteration 16 gives beta [[-19.9 ]\n",
      " [  7.39]]\n",
      "Iteration 17 gives beta [[-19.94]\n",
      " [  7.4 ]]\n",
      "Iteration 18 gives beta [[-19.98]\n",
      " [  7.41]]\n",
      "Iteration 19 gives beta [[-20.01]\n",
      " [  7.42]]\n",
      "Iteration 20 gives beta [[-20.04]\n",
      " [  7.42]]\n",
      "Iteration 21 gives beta [[-20.07]\n",
      " [  7.43]]\n",
      "Iteration 22 gives beta [[-20.1 ]\n",
      " [  7.44]]\n",
      "Iteration 23 gives beta [[-20.13]\n",
      " [  7.44]]\n",
      "Iteration 24 gives beta [[-20.15]\n",
      " [  7.45]]\n",
      "Iteration 25 gives beta [[-20.18]\n",
      " [  7.46]]\n",
      "Iteration 26 gives beta [[-20.2 ]\n",
      " [  7.46]]\n",
      "Iteration 27 gives beta [[-20.22]\n",
      " [  7.46]]\n",
      "Iteration 28 gives beta [[-20.24]\n",
      " [  7.47]]\n",
      "Iteration 29 gives beta [[-20.25]\n",
      " [  7.47]]\n",
      "Iteration 30 gives beta [[-20.27]\n",
      " [  7.48]]\n",
      "Iteration 31 gives beta [[-20.28]\n",
      " [  7.48]]\n",
      "Iteration 32 gives beta [[-20.29]\n",
      " [  7.48]]\n",
      "Iteration 33 gives beta [[-20.3 ]\n",
      " [  7.48]]\n",
      "Iteration 34 gives beta [[-20.31]\n",
      " [  7.49]]\n",
      "Iteration 35 gives beta [[-20.32]\n",
      " [  7.49]]\n",
      "Iteration 36 gives beta [[-20.33]\n",
      " [  7.49]]\n",
      "Iteration 37 gives beta [[-20.33]\n",
      " [  7.49]]\n",
      "Iteration 38 gives beta [[-20.34]\n",
      " [  7.49]]\n",
      "Iteration 39 gives beta [[-20.34]\n",
      " [  7.49]]\n",
      "Iteration 40 gives beta [[-20.34]\n",
      " [  7.49]]\n",
      "Iteration 41 gives beta [[-20.35]\n",
      " [  7.5 ]]\n",
      "Iteration 42 gives beta [[-20.35]\n",
      " [  7.5 ]]\n",
      "Iteration 43 gives beta [[-20.35]\n",
      " [  7.5 ]]\n",
      "Iteration 44 gives beta [[-20.35]\n",
      " [  7.5 ]]\n",
      "Iteration 45 gives beta [[-20.36]\n",
      " [  7.5 ]]\n",
      "Iteration 46 gives beta [[-20.36]\n",
      " [  7.5 ]]\n",
      "Iteration 47 gives beta [[-20.36]\n",
      " [  7.5 ]]\n",
      "Iteration 48 gives beta [[-20.36]\n",
      " [  7.5 ]]\n",
      "Iteration 49 gives beta [[-20.36]\n",
      " [  7.5 ]]\n",
      "Iteration 50 gives beta [[-20.36]\n",
      " [  7.5 ]]\n",
      "Iteration 51 gives beta [[-20.36]\n",
      " [  7.5 ]]\n",
      "Iteration 52 gives beta [[-20.36]\n",
      " [  7.5 ]]\n",
      "Iteration 53 gives beta [[-20.36]\n",
      " [  7.5 ]]\n",
      "Iteration 54 gives beta [[-20.36]\n",
      " [  7.5 ]]\n",
      "Iteration 55 gives beta [[-20.36]\n",
      " [  7.5 ]]\n",
      "Iteration 56 gives beta [[-20.36]\n",
      " [  7.5 ]]\n",
      "Iteration 57 gives beta [[-20.36]\n",
      " [  7.5 ]]\n",
      "Iteration 58 gives beta [[-20.36]\n",
      " [  7.5 ]]\n",
      "Iteration 59 gives beta [[-20.36]\n",
      " [  7.5 ]]\n",
      "Iteration 60 gives beta [[-20.36]\n",
      " [  7.5 ]]\n",
      "Iteration 61 gives beta [[-20.36]\n",
      " [  7.5 ]]\n",
      "Iteration 62 gives beta [[-20.36]\n",
      " [  7.5 ]]\n",
      "Iteration 63 gives beta [[-20.36]\n",
      " [  7.5 ]]\n",
      "Iteration 64 gives beta [[-20.36]\n",
      " [  7.5 ]]\n",
      "Iteration 65 gives beta [[-20.36]\n",
      " [  7.5 ]]\n",
      "Iteration 66 gives beta [[-20.36]\n",
      " [  7.5 ]]\n",
      "Iteration 67 gives beta [[-20.36]\n",
      " [  7.5 ]]\n",
      "Iteration 68 gives beta [[-20.36]\n",
      " [  7.5 ]]\n",
      "Iteration 69 gives beta [[-20.36]\n",
      " [  7.5 ]]\n",
      "Iteration 70 gives beta [[-20.36]\n",
      " [  7.5 ]]\n",
      "Iteration 71 gives beta [[-20.36]\n",
      " [  7.5 ]]\n",
      "Iteration 72 gives beta [[-20.36]\n",
      " [  7.5 ]]\n",
      "Iteration 73 gives beta [[-20.36]\n",
      " [  7.5 ]]\n",
      "Iteration 74 gives beta [[-20.36]\n",
      " [  7.5 ]]\n",
      "Iteration 75 gives beta [[-20.36]\n",
      " [  7.5 ]]\n",
      "Iteration 76 gives beta [[-20.36]\n",
      " [  7.5 ]]\n",
      "Iteration 77 gives beta [[-20.36]\n",
      " [  7.5 ]]\n",
      "Iteration 78 gives beta [[-20.36]\n",
      " [  7.5 ]]\n",
      "Iteration 79 gives beta [[-20.36]\n",
      " [  7.5 ]]\n",
      "Iteration 80 gives beta [[-20.36]\n",
      " [  7.5 ]]\n",
      "Iteration 81 gives beta [[-20.36]\n",
      " [  7.5 ]]\n",
      "Iteration 82 gives beta [[-20.36]\n",
      " [  7.5 ]]\n",
      "Iteration 83 gives beta [[-20.36]\n",
      " [  7.5 ]]\n",
      "Iteration 84 gives beta [[-20.36]\n",
      " [  7.5 ]]\n",
      "Iteration 85 gives beta [[-20.36]\n",
      " [  7.5 ]]\n",
      "Iteration 86 gives beta [[-20.36]\n",
      " [  7.5 ]]\n",
      "Iteration 87 gives beta [[-20.36]\n",
      " [  7.5 ]]\n",
      "Iteration 88 gives beta [[-20.36]\n",
      " [  7.5 ]]\n",
      "Iteration 89 gives beta [[-20.36]\n",
      " [  7.5 ]]\n",
      "Iteration 90 gives beta [[-20.36]\n",
      " [  7.5 ]]\n",
      "Iteration 91 gives beta [[-20.36]\n",
      " [  7.5 ]]\n",
      "Iteration 92 gives beta [[-20.36]\n",
      " [  7.5 ]]\n",
      "Iteration 93 gives beta [[-20.36]\n",
      " [  7.5 ]]\n",
      "Iteration 94 gives beta [[-20.36]\n",
      " [  7.5 ]]\n",
      "Iteration 95 gives beta [[-20.36]\n",
      " [  7.5 ]]\n",
      "Iteration 96 gives beta [[-20.36]\n",
      " [  7.5 ]]\n",
      "Iteration 97 gives beta [[-20.36]\n",
      " [  7.5 ]]\n",
      "Iteration 98 gives beta [[-20.36]\n",
      " [  7.5 ]]\n",
      "Iteration 99 gives beta [[-20.36]\n",
      " [  7.5 ]]\n"
     ]
    }
   ],
   "source": [
    "# initial guess \n",
    "beta_update = np.zeros(X.shape[1])\n",
    "M = np.zeros((11,11))\n",
    "b=0\n",
    "\n",
    "for i in range(100):\n",
    "    \n",
    "    # create diagonal matrix\n",
    "    W = 1/np.absolute(y.T - np.matmul(beta_update.T,X.T))    \n",
    "    np.fill_diagonal(M, W)\n",
    "    \n",
    "    # inversing the matrix\n",
    "    inv = np.linalg.inv(np.matmul(np.matmul(X.T,M),X))\n",
    "    \n",
    "    # calculating the theta update    \n",
    "    beta_update = np.matmul(np.matmul( np.matmul(inv,X.T),M) , y)\n",
    "    \n",
    "    b = i+1\n",
    "    \n",
    "    print(\"Iteration {} gives beta {}\".format(i, np.round(beta_update,2)))"
   ]
  },
  {
   "cell_type": "code",
   "execution_count": 93,
   "metadata": {},
   "outputs": [
    {
     "data": {
      "text/plain": [
       "array([[12.17191658],\n",
       "       [12.14248909],\n",
       "       [12.11294567],\n",
       "       [11.93319845],\n",
       "       [11.62370084],\n",
       "       [11.94329824],\n",
       "       [12.42223052],\n",
       "       [12.59075659],\n",
       "       [11.92308504],\n",
       "       [11.99359417],\n",
       "       [11.91295797]])"
      ]
     },
     "execution_count": 93,
     "metadata": {},
     "output_type": "execute_result"
    }
   ],
   "source": [
    "pred = beta_update[1]*x_vals + beta_update[0]\n",
    "pred"
   ]
  },
  {
   "cell_type": "code",
   "execution_count": 103,
   "metadata": {},
   "outputs": [
    {
     "data": {
      "image/png": "[encoded data removed]",
      "text/plain": [
       "<Figure size 576x360 with 1 Axes>"
      ]
     },
     "metadata": {},
     "output_type": "display_data"
    }
   ],
   "source": [
    "fig = plt.figure(figsize=(8,5))\n",
    "\n",
    "plt.scatter(x_vals, y, color='black', marker = 'o')\n",
    "plt.plot(x_vals, pred,  color='red', linewidth = 2)\n",
    "\n",
    "plt.xlabel(\"Log of % of employed people aged 16 to 64, in the UK\")\n",
    "plt.ylabel(\"Log of the average house price for a first time buyer\")\n",
    "\n",
    "fig.savefig('LAD_with_London_outlier.png', dpi=300)"
   ]
  },
  {
   "cell_type": "code",
   "execution_count": null,
   "metadata": {},
   "outputs": [],
   "source": []
  },
  {
   "cell_type": "code",
   "execution_count": null,
   "metadata": {},
   "outputs": [],
   "source": []
  }
 ],
 "metadata": {
  "kernelspec": {
   "display_name": "Python 3",
   "language": "python",
   "name": "python3"
  },
  "language_info": {
   "codemirror_mode": {
    "name": "ipython",
    "version": 3
   },
   "file_extension": ".py",
   "mimetype": "text/x-python",
   "name": "python",
   "nbconvert_exporter": "python",
   "pygments_lexer": "ipython3",
   "version": "3.8.5"
  },
  "latex_envs": {
   "LaTeX_envs_menu_present": true,
   "autoclose": false,
   "autocomplete": true,
   "bibliofile": "biblio.bib",
   "cite_by": "apalike",
   "current_citInitial": 1,
   "eqLabelWithNumbers": true,
   "eqNumInitial": 1,
   "hotkeys": {
    "equation": "Ctrl-E",
    "itemize": "Ctrl-I"
   },
   "labels_anchors": false,
   "latex_user_defs": false,
   "report_style_numbering": false,
   "user_envs_cfg": false
  },
  "toc": {
   "base_numbering": 1,
   "nav_menu": {},
   "number_sections": true,
   "sideBar": true,
   "skip_h1_title": false,
   "title_cell": "Table of Contents",
   "title_sidebar": "Contents",
   "toc_cell": false,
   "toc_position": {},
   "toc_section_display": true,
   "toc_window_display": true
  },
  "varInspector": {
   "cols": {
    "lenName": 16,
    "lenType": 16,
    "lenVar": 40
   },
   "kernels_config": {
    "python": {
     "delete_cmd_postfix": "",
     "delete_cmd_prefix": "del ",
     "library": "var_list.py",
     "varRefreshCmd": "print(var_dic_list())"
    },
    "r": {
     "delete_cmd_postfix": ") ",
     "delete_cmd_prefix": "rm(",
     "library": "var_list.r",
     "varRefreshCmd": "cat(var_dic_list()) "
    }
   },
   "types_to_exclude": [
    "module",
    "function",
    "builtin_function_or_method",
    "instance",
    "_Feature"
   ],
   "window_display": false
  }
 },
 "nbformat": 4,
 "nbformat_minor": 4
}
