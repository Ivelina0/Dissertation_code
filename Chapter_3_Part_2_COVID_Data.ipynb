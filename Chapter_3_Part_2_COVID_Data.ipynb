{
  "nbformat": 4,
  "nbformat_minor": 0,
  "metadata": {
    "colab": {
      "name": "Chapter_3_Part_2_COVID_Data.ipynb",
      "provenance": [],
      "toc_visible": true,
      "authorship_tag": "ABX9TyNcF4lFOKmmrsXeg2Fw7nDo",
      "include_colab_link": true
    },
    "kernelspec": {
      "name": "python3",
      "display_name": "Python 3"
    },
    "language_info": {
      "name": "python"
    }
  },
  "cells": [
    {
      "cell_type": "markdown",
      "metadata": {
        "id": "view-in-github",
        "colab_type": "text"
      },
      "source": [
        "<a href=\"https://colab.research.google.com/github/Ivelina0/Dissertation_code/blob/main/Chapter_3_Part_2_COVID_Data.ipynb\" target=\"_parent\"><img src=\"https://colab.research.google.com/assets/colab-badge.svg\" alt=\"Open In Colab\"/></a>"
      ]
    },
    {
      "cell_type": "markdown",
      "metadata": {
        "id": "odJLuvfykL0M"
      },
      "source": [
        "## Covid-19 Data - Cases by Specimen date\n",
        "\n",
        "\n",
        "https://coronavirus.data.gov.uk/details/cases\n",
        "\n",
        "Using the Cases by specimen date.\n",
        "\n",
        "Importing data to google colab https://towardsdatascience.com/google-colab-import-and-export-datasets-eccf801e2971\n",
        "\n"
      ]
    },
    {
      "cell_type": "code",
      "metadata": {
        "id": "hAjS5xvIkGuA"
      },
      "source": [
        "import numpy as np\n",
        "import matplotlib.pyplot as plt\n",
        "import datetime\n",
        "import pandas as pd\n",
        "%matplotlib inline"
      ],
      "execution_count": 2,
      "outputs": []
    },
    {
      "cell_type": "code",
      "metadata": {
        "colab": {
          "base_uri": "https://localhost:8080/"
        },
        "id": "S1AnHq8wkPPX",
        "outputId": "0d5e92db-99df-4806-b4d6-bc9f317e1887"
      },
      "source": [
        "from google.colab import drive\n",
        "drive.mount(\"/content/gdrive\")"
      ],
      "execution_count": 3,
      "outputs": [
        {
          "output_type": "stream",
          "text": [
            "Mounted at /content/gdrive\n"
          ],
          "name": "stdout"
        }
      ]
    },
    {
      "cell_type": "code",
      "metadata": {
        "colab": {
          "base_uri": "https://localhost:8080/"
        },
        "id": "7y263BNQkR6G",
        "outputId": "56bb12c8-eb03-4112-8762-859a365bfef5"
      },
      "source": [
        "# import data with Pandas into a DataFrame: COV_all\n",
        "COV_all = pd.read_csv('/content/gdrive/My Drive/Colab Notebooks/data_2021-May-11 Cases by specimen date.csv')\n",
        "\n",
        "# make the dates column into datetime data type for ease of use\n",
        "COV_all['Date']= pd.to_datetime(COV_all['date'])\n",
        "\n",
        "# Filter out all the dats for covid cases after the first date back to school \n",
        "Cov_sept = COV_all[COV_all['Date'] > pd.to_datetime('2020-09-06')]\n",
        "\n",
        "# checking the values in column date are between 08-09-2020 and the last date in 2021\n",
        "Cov_sept['Date'].sort_values(ascending=True)"
      ],
      "execution_count": 4,
      "outputs": [
        {
          "output_type": "execute_result",
          "data": {
            "text/plain": [
              "244   2020-09-07\n",
              "243   2020-09-08\n",
              "242   2020-09-09\n",
              "241   2020-09-10\n",
              "240   2020-09-11\n",
              "         ...    \n",
              "4     2021-05-05\n",
              "3     2021-05-06\n",
              "2     2021-05-07\n",
              "1     2021-05-08\n",
              "0     2021-05-09\n",
              "Name: Date, Length: 245, dtype: datetime64[ns]"
            ]
          },
          "metadata": {
            "tags": []
          },
          "execution_count": 4
        }
      ]
    },
    {
      "cell_type": "markdown",
      "metadata": {
        "id": "G4Cd9jfXk1h-"
      },
      "source": [
        "# Getting the AVR COVID cases per week by the Specimen date\n",
        "\n",
        "The new COVID cases per day by Specimen Date."
      ]
    },
    {
      "cell_type": "code",
      "metadata": {
        "colab": {
          "base_uri": "https://localhost:8080/"
        },
        "id": "hTzBd4YTkiLu",
        "outputId": "c4ee7977-8037-45a3-91d3-c9d737e5e597"
      },
      "source": [
        "cases_day = Cov_sept['newCasesBySpecimenDate'].values\n",
        "# We can have 35 means: n=35 x 7 array\n",
        "cases_day.size"
      ],
      "execution_count": 5,
      "outputs": [
        {
          "output_type": "execute_result",
          "data": {
            "text/plain": [
              "245"
            ]
          },
          "metadata": {
            "tags": []
          },
          "execution_count": 5
        }
      ]
    },
    {
      "cell_type": "code",
      "metadata": {
        "colab": {
          "base_uri": "https://localhost:8080/"
        },
        "id": "jB3OV2cAk9yP",
        "outputId": "6d0e6493-4d0a-4dff-9328-6790085b7f89"
      },
      "source": [
        "np.where(cases_day == 0)  # no 0 cases!"
      ],
      "execution_count": 6,
      "outputs": [
        {
          "output_type": "execute_result",
          "data": {
            "text/plain": [
              "(array([], dtype=int64),)"
            ]
          },
          "metadata": {
            "tags": []
          },
          "execution_count": 6
        }
      ]
    },
    {
      "cell_type": "code",
      "metadata": {
        "colab": {
          "base_uri": "https://localhost:8080/"
        },
        "id": "951ftFzZlCnQ",
        "outputId": "69de45bb-c915-401b-d1e1-00cde34e205a"
      },
      "source": [
        "cs_day_seven = cases_day.reshape(-1,7)\n",
        "\n",
        "cs_day_seven.shape # have 35 means"
      ],
      "execution_count": 7,
      "outputs": [
        {
          "output_type": "execute_result",
          "data": {
            "text/plain": [
              "(35, 7)"
            ]
          },
          "metadata": {
            "tags": []
          },
          "execution_count": 7
        }
      ]
    },
    {
      "cell_type": "code",
      "metadata": {
        "colab": {
          "base_uri": "https://localhost:8080/"
        },
        "id": "nXPqqPtilGZe",
        "outputId": "c7abe610-ba85-462f-e659-f18693508ecf"
      },
      "source": [
        "# take the average number of cases per week \n",
        "avr_week_cases = np.average(cs_day_seven, axis=1)\n",
        "avr_week_cases"
      ],
      "execution_count": 8,
      "outputs": [
        {
          "output_type": "execute_result",
          "data": {
            "text/plain": [
              "array([ 2164.57142857,  2034.28571429,  2288.42857143,  2389.28571429,\n",
              "        2781.57142857,  3160.71428571,  5059.14285714,  5392.28571429,\n",
              "        5540.        ,  5610.42857143,  7566.28571429, 10856.28571429,\n",
              "       12195.42857143, 16943.71428571, 22926.71428571, 31355.14285714,\n",
              "       41998.71428571, 53284.57142857, 56873.57142857, 38475.71428571,\n",
              "       32976.71428571, 21682.71428571, 15509.28571429, 14636.71428571,\n",
              "       18458.85714286, 24053.57142857, 23764.28571429, 21791.85714286,\n",
              "       21867.85714286, 17595.71428571, 15785.        , 11850.42857143,\n",
              "        6805.71428571,  4436.71428571,  3169.28571429])"
            ]
          },
          "metadata": {
            "tags": []
          },
          "execution_count": 8
        }
      ]
    },
    {
      "cell_type": "markdown",
      "metadata": {
        "id": "97Q2e8gXlQwm"
      },
      "source": [
        "# The parameter update functions"
      ]
    },
    {
      "cell_type": "code",
      "metadata": {
        "id": "sWOI5pgjljYA"
      },
      "source": [
        "np.set_printoptions(formatter={'float_kind':'{:f}'.format})\n",
        "\n",
        "########################################\n",
        "## Lambdas\n",
        "########################################\n",
        "\n",
        "def find_lambda(data, mu_init, ga_init, al_init):\n",
        "\n",
        "  n = len(data)\n",
        "\n",
        "  lambda_list = np.ones(n+1)\n",
        "\n",
        "  lambda_list[0] = mu_init\n",
        "\n",
        "  for i in range(1,n+1):\n",
        "      \n",
        "      lambda_k_plus_1 = (lambda_list[i-1] - mu_init)*ga_init + mu_init + al_init*data[i-1]\n",
        "\n",
        "      lambda_list[i] = lambda_k_plus_1\n",
        "\n",
        "  lambda_list = lambda_list.reshape(n+1,1)\n",
        "    \n",
        "  return lambda_list\n",
        "\n",
        "########################################\n",
        "## Mu\n",
        "########################################\n",
        "\n",
        "def find_mu(data, mu_, lambda_list):\n",
        "\n",
        "  n = len(data)\n",
        "\n",
        "  mu_update = (1/n)*np.sum(np.divide(mu_*data , lambda_list[:-1, :] ))\n",
        "    \n",
        "  return mu_update\n",
        "\n",
        "########################################\n",
        "## Alpha\n",
        "########################################\n",
        "\n",
        "def find_alpha(data, alpha_, gamma_, lambda_list):\n",
        "\n",
        "  n = len(data)\n",
        "\n",
        "  # starts from k=2 to k = N, so we need N-1 balues \n",
        "  A = np.zeros((n-1, 1))\n",
        "\n",
        "  # create constants - need to start from second value k=2 (index is 1 )\n",
        "  C = (data/lambda_list[:-1, :])\n",
        "\n",
        "  # add initial value\n",
        "  A[0] =  data[0]*C[1]\n",
        "\n",
        "  for j in range(1, n-1):\n",
        "\n",
        "    A[j] = (gamma_*(A[j-1]/C[j]) +  data[j])*C[j+1]\n",
        "\n",
        "  D = np.sum(A*alpha_)\n",
        "\n",
        "  # A = sum of the first N-2 data points * (1+gamma)/alpha\n",
        "  A = (1 + gamma_)*np.sum(data[:-2, :])/alpha_\n",
        "\n",
        "  B = data[-1,:]\n",
        "\n",
        "  alpha_update = ( -B + np.sqrt(B**2 + 4*A*D) )/ (2*A)\n",
        "    \n",
        "  return alpha_update\n",
        "\n",
        "########################################\n",
        "## Gamma\n",
        "########################################\n",
        "\n",
        "def find_gamma(data, alpha_, gamma_, lambda_list):\n",
        "\n",
        "  n = len(data)\n",
        "\n",
        "  # starts from k=3 to k = N, so we need N-2 values \n",
        "  K = np.zeros((n-2, 1))\n",
        "\n",
        "  # create constants - need to start from second value k=3 (index is 2 )\n",
        "  G = (data/lambda_list[:-1, :])\n",
        "\n",
        "  # add initial two values\n",
        "  K[0] =  gamma_*data[0]*G[2]\n",
        "  K[1] = ((K[0]/G[2])*2*gamma_ + gamma_*data[1])*G[3]\n",
        "\n",
        "  # for loop the rest N-2-2 values\n",
        "  for l in range(2, n-2):\n",
        "\n",
        "    # K[2]  =((K[1]/G[3])*2*ga_init - (K[0]/G[2])*(ga_init**2) + ga_init*data1000[2])*G[4]\n",
        "\n",
        "    K[l]  =((K[l-1]/G[l+1])*2*gamma_ - (K[l-2]/G[l])*(gamma_**2) + gamma_*data[l])*G[l+2]\n",
        "\n",
        "  F = - np.sum(K*alpha_)\n",
        "\n",
        "  # this one is both a and c in the quadratic eqn\n",
        "  P = (alpha_/ (gamma_ + 1))* np.sum(data[:-2,:])\n",
        "\n",
        "  gamma_update = (-P + np.sqrt(P**2 - 4*F*P))/(2*P) \n",
        "    \n",
        "  return gamma_update\n",
        "\n",
        "########################################\n",
        "####### FIND ALL PARAMETERS function \n",
        "########################################\n",
        "\n",
        "def find_param(itr, mu0, ga0, al0, data):\n",
        "\n",
        "  n = len(data)\n",
        "\n",
        "  iter = itr\n",
        "\n",
        "  neg_log_likelihood = np.zeros((iter,1))\n",
        "\n",
        "  mu_arr = np.zeros(iter)\n",
        "  mu_arr[0] = mu0\n",
        "\n",
        "  alpha_arr = np.zeros(iter)\n",
        "  alpha_arr[0] = al0\n",
        "\n",
        "  gamma_arr = np.zeros(iter)\n",
        "  gamma_arr[0] = ga0\n",
        "\n",
        "  for i in range(1,iter):\n",
        "    \n",
        "    # initialising the values & updating them for the loop\n",
        "    mu_val = mu_arr[i-1]\n",
        "    al_val = alpha_arr[i-1]\n",
        "    ga_val = gamma_arr[i-1]\n",
        "\n",
        "    # finding the lambda estimates with the parameter values \n",
        "    lambda_list = find_lambda(data, mu_val, ga_val, al_val)\n",
        "\n",
        "    mu_arr[i] = find_mu(data, mu_val, lambda_list)\n",
        "\n",
        "    alpha_arr[i] = find_alpha(data, al_val, ga_val, lambda_list)\n",
        "\n",
        "    gamma_arr[i] = find_gamma(data, al_val, ga_val, lambda_list)\n",
        "    \n",
        "    mult_vals = np.multiply(data, np.log(lambda_list[:-1, :]))\n",
        "    \n",
        "    neg_log_likelihood[i] = -np.sum(mult_vals) + np.sum(lambda_list)\n",
        "\n",
        "  return mu_arr, alpha_arr, gamma_arr, neg_log_likelihood"
      ],
      "execution_count": 14,
      "outputs": []
    },
    {
      "cell_type": "markdown",
      "metadata": {
        "id": "adOpAM9xmJyE"
      },
      "source": [
        "# Model using average cases overall as initial mu"
      ]
    },
    {
      "cell_type": "code",
      "metadata": {
        "colab": {
          "base_uri": "https://localhost:8080/"
        },
        "id": "CG_LvAIxljap",
        "outputId": "ec3d1737-52fd-402a-8082-a9ffcd529328"
      },
      "source": [
        "# reshape into an array I can plug into the parameter updating function\n",
        "avr_week_cases = avr_week_cases.reshape(-1,1)\n",
        "\n",
        "# Set the initial mu to be the overall average cases for the 35 week period\n",
        "mu_init = np.average(avr_week_cases)\n",
        "mu_init"
      ],
      "execution_count": 11,
      "outputs": [
        {
          "output_type": "execute_result",
          "data": {
            "text/plain": [
              "16665.18775510204"
            ]
          },
          "metadata": {
            "tags": []
          },
          "execution_count": 11
        }
      ]
    },
    {
      "cell_type": "code",
      "metadata": {
        "id": "6jgf0xleljdv"
      },
      "source": [
        "# Testing it for 5 iterations\n",
        "\n",
        "mu_updates, alpha_updates, gamma_updates, neg_log_likelihood_updates = find_param(itr= 5, mu0 = mu_init, ga0 = 0.01, al0 = 0.25, data = avr_week_cases)"
      ],
      "execution_count": 15,
      "outputs": []
    },
    {
      "cell_type": "code",
      "metadata": {
        "colab": {
          "base_uri": "https://localhost:8080/"
        },
        "id": "Fn-hJx_sljf3",
        "outputId": "097914b9-7c15-4b7a-87aa-d6a0fff5988f"
      },
      "source": [
        "mu_updates, alpha_updates, gamma_updates, neg_log_likelihood_updates[1:]"
      ],
      "execution_count": 17,
      "outputs": [
        {
          "output_type": "execute_result",
          "data": {
            "text/plain": [
              "(array([16665.187755, 12038.364782, 10788.793820, 9865.439122, 8985.600754]),\n",
              " array([0.250000, 0.263193, 0.304312, 0.351469, 0.400629]),\n",
              " array([0.010000, 0.010638, 0.013655, 0.017595, 0.022262]),\n",
              " array([[-5120481.896714],\n",
              "        [-5158661.884790],\n",
              "        [-5172054.382421],\n",
              "        [-5184511.572052]]))"
            ]
          },
          "metadata": {
            "tags": []
          },
          "execution_count": 17
        }
      ]
    },
    {
      "cell_type": "code",
      "metadata": {
        "colab": {
          "base_uri": "https://localhost:8080/"
        },
        "id": "ADXKTcv6ljii",
        "outputId": "9e6261be-59f2-4ba8-e765-dce670a339e7"
      },
      "source": [
        "# Testing it for 50 iterations\n",
        "\n",
        "mu_updates, alpha_updates, gamma_updates, neg_log_likelihood_updates = find_param(itr= 50, mu0 = mu_init, ga0 = 0.01, al0 = 0.25, data = avr_week_cases)"
      ],
      "execution_count": 18,
      "outputs": [
        {
          "output_type": "stream",
          "text": [
            "/usr/local/lib/python3.7/dist-packages/ipykernel_launcher.py:17: RuntimeWarning: overflow encountered in double_scalars\n",
            "/usr/local/lib/python3.7/dist-packages/ipykernel_launcher.py:56: RuntimeWarning: overflow encountered in multiply\n",
            "/usr/local/lib/python3.7/dist-packages/ipykernel_launcher.py:92: RuntimeWarning: overflow encountered in multiply\n",
            "/usr/local/lib/python3.7/dist-packages/ipykernel_launcher.py:92: RuntimeWarning: invalid value encountered in subtract\n"
          ],
          "name": "stderr"
        }
      ]
    },
    {
      "cell_type": "code",
      "metadata": {
        "colab": {
          "base_uri": "https://localhost:8080/"
        },
        "id": "C4ZEJRVynJJu",
        "outputId": "d28d270d-b7d9-4ee6-cbe2-3291a53364bc"
      },
      "source": [
        "mu_updates, alpha_updates, gamma_updates, neg_log_likelihood_updates[1:]"
      ],
      "execution_count": 19,
      "outputs": [
        {
          "output_type": "execute_result",
          "data": {
            "text/plain": [
              "(array([16665.187755, 12038.364782, 10788.793820, 9865.439122, 8985.600754,\n",
              "        8128.733530, 7308.021600, 6538.316484, 5830.423491, 5190.143369,\n",
              "        4618.661498, 4113.458575, 3669.349993, 3279.402259, 2935.569544,\n",
              "        2628.945837, 2349.506253, 2085.052882, 1818.611947, 1522.201526,\n",
              "        1141.114284, 562.324902, 97.538469, 67.800917, 69.602549,\n",
              "        76.023083, 86.355078, 98.724680, 108.906204, 114.937973,\n",
              "        117.972040, 119.437831, 120.143016, 120.482327, 120.645624,\n",
              "        120.724219, 120.762049, 120.780258, 120.789023, 120.793242,\n",
              "        120.795273, 120.796250, 120.796720, 120.796947, 120.797056,\n",
              "        120.797108, 120.797134, 120.797146, 120.797152, 120.797155]),\n",
              " array([0.250000, 0.263193, 0.304312, 0.351469, 0.400629, 0.449920,\n",
              "        0.497879, 0.543271, 0.585117, 0.622737, 0.655730, 0.683931,\n",
              "        0.707333, 0.726001, 0.739980, 0.749194, 0.753313, 0.751554,\n",
              "        0.742328, 0.722489, 0.685552, 0.616180, 0.458657, 0.219035,\n",
              "        0.104365, 0.049999, 0.024014, 0.011546, 0.005555, 0.002673,\n",
              "        0.001286, 0.000619, 0.000298, 0.000143, 0.000069, 0.000033,\n",
              "        0.000016, 0.000008, 0.000004, 0.000002, 0.000001, 0.000000,\n",
              "        0.000000, 0.000000, 0.000000, 0.000000, 0.000000, 0.000000,\n",
              "        0.000000, inf]),\n",
              " array([0.010000, 0.010638, 0.013655, 0.017595, 0.022262, 0.027599,\n",
              "        0.033576, 0.040186, 0.047463, 0.055505, 0.064501, 0.074765,\n",
              "        0.086790, 0.101338, 0.119614, 0.143594, 0.176724, 0.225502,\n",
              "        0.303632, 0.445126, 0.761617, 1.943011, 8.635457, 19.278745,\n",
              "        41.095246, 86.381910, 180.409897, 375.680739, 781.293298,\n",
              "        1623.927205, 3374.502589, 7011.344070, 14566.927361, 30263.745224,\n",
              "        62874.078632, 130622.449891, 271370.529646, 563776.407247,\n",
              "        1171253.236800, 2433293.868368, 5055198.899538, 10502239.050660,\n",
              "        21818532.377452, 45328271.815404, 94170046.454567,\n",
              "        195639437.733421, 406443353.924399, 844391098.739607,\n",
              "        1754232958.375357, nan]),\n",
              " array([[-5120481.896714],\n",
              "        [-5158661.884790],\n",
              "        [-5172054.382421],\n",
              "        [-5184511.572052],\n",
              "        [-5196316.222071],\n",
              "        [-5207181.744869],\n",
              "        [-5216870.477371],\n",
              "        [-5225252.079989],\n",
              "        [-5232302.884889],\n",
              "        [-5238084.348818],\n",
              "        [-5242712.802653],\n",
              "        [-5246328.561498],\n",
              "        [-5249068.659537],\n",
              "        [-5251042.787760],\n",
              "        [-5252305.729654],\n",
              "        [-5252806.441534],\n",
              "        [-5252250.786215],\n",
              "        [-5249626.991245],\n",
              "        [-5241044.251899],\n",
              "        [-5204196.394174],\n",
              "        [-4735310.220679],\n",
              "        [38118876460890.062500],\n",
              "        [86131165265034331030280511833505792.000000],\n",
              "        [25918538871816684755477555386214396571567521792.000000],\n",
              "        [1752391897114605631866307467507070024058466617569136607232.000000],\n",
              "        [76299863565549964470362729538858434976473729636697529044760203886592.000000],\n",
              "        [2712506592649901592418336496666196191955528025934613387222974221816234516676608.000000],\n",
              "        [87883692232664858215605024919674224620163772251637013737426778740096223263244415716556800.000000],\n",
              "        [2733927678321392605297009212279543025042842895648311217474438854613706225403225318427697905158586368.000000],\n",
              "        [83587546579386558971369463668280089625723737446525204135096148752604869591120652422853497879863200277225013248.000000],\n",
              "        [2535926277631447747126586555772279061200124249757071649098769882000141498504746663630145858136027525059989373269433122816.000000],\n",
              "        [76655881734678502591335486368790852063129955306194634488353583587165275675319432103493377416991376204403498572158549422188760399872.000000],\n",
              "        [2313088686141108912115469966822531126562785532250158422721020186478249755908023411281332498420356217039189371854965167581799124222120384528384.000000],\n",
              "        [69738441284248581708068098574534146571049209839920977521005131306054014809449045613360913865375501538733126934524524305506575027609906735049848809062400.000000],\n",
              "        [2101723543376661534776262536899522325084297316644317336606934995133621928065199512978210090531476114330743128361642379081527005544847662339832232840728195448700928.000000],\n",
              "        [63327731759710740341125946422676003050230432578360960576264813022837095894650472444779374465502821946017818718243986315393473553400952310100641583480875620279179755665752064.000000],\n",
              "        [1907969188606971065526236579203982112636935285230922529379166103990060316471717564035351495918064529932802408516314876568527897616299427700095793290393569667089617695972777997576962048.000000],\n",
              "        [57481631279635346771995514838271569885405462056930087217666888831090370732065333887625400473187299363265703153194149653169387387688007189125967152766681341925328937939369307714445746639046967296.000000],\n",
              "        [1731718637579014738526880191511148940557043880763936360440433145869616446316400292121667382217895386043629402439178007218357055982097179380434368760790760833982872328810259959903283141850087239339290394624.000000],\n",
              "        [52170021289898697166038110332630175014110574321330386460022253214076667592432392026814206849201795079424090747480603626444363073131920814974819051716526531648662018469754210502187275781537139118652077011309401473024.000000],\n",
              "        [1571674113664407562253950694561854011654591258112544886738832432901584851798055095106950125689863021045306147342906654894330168850597802701489775176468834934974793239052646105201561178443218932633769315418102179603281090707456.000000],\n",
              "        [47348140648761615405841454199498183571422166535740450461076755453514826468507170490126251851069023709697242444454466128957403884815094690753210313791925717194639703554898114727923764278266313180175624535717047639795746734789538260975616.000000],\n",
              "        [1426404988065844046429398038619522054610222349339523896826282279110140388414614344300185463789206547107879883087128536180353779104789837168903625868481651580859705057990276241264012924751837583759678986398192426031396751174648918827863575772528640.000000],\n",
              "        [42971698892017380243113285974418874645387035065624156840649983332769507588444893225140525868899438919602963019883617881747655714938969710057437163927551856912180986499643363485583832786226101177666197744176732557358626952354310124183938560811499659972313088.000000],\n",
              "        [1294559692878860647259953108936568565429770884994274502313057025292702196803017795723641797254646928767115542618356266496707161650064729907846693568068761248522507835311805073283131920400583625275012681763841896854782015509681854655292027314628039149328220277163687936.000000],\n",
              "        [38999728236266323783883859364554819772838624854355779967521561067286379518252899333497487136139849721013266107804178688809916921846518033157697976016704195294874403055187876190194847456245146449395294348358162787156382535652348367428115406667950060758062897693474021194759929856.000000],\n",
              "        [1174900406719499222705960342333551181129975367420325384997556543902944007018777332969576287033562439862060574611707858024595136029818166566873755842337351269404221011043465114193317888966748524454106564627144958272419312990531515812034536333861427639862967866331045154379639093227402821632.000000],\n",
              "        [35394885716092115981460487052097782599101813974721306014412218434346107345145060357540312148548201166283209208825767777952683210527674915063983651146803525746318127193564904728256569578725618086154967184794026368597830338607464153681593465185932749437718800154070112962233046776118631587239195312128.000000],\n",
              "        [inf]]))"
            ]
          },
          "metadata": {
            "tags": []
          },
          "execution_count": 19
        }
      ]
    },
    {
      "cell_type": "markdown",
      "metadata": {
        "id": "by5mw64GnZkN"
      },
      "source": [
        " It blows up! after 21 iterations."
      ]
    },
    {
      "cell_type": "code",
      "metadata": {
        "id": "qFtHPGQKntr9"
      },
      "source": [
        "# Testing it for 21 iterations\n",
        "\n",
        "mu_updates, alpha_updates, gamma_updates, neg_log_likelihood_updates = find_param(itr= 21, mu0 = mu_init, ga0 = 0.01, al0 = 0.25, data = avr_week_cases)"
      ],
      "execution_count": 35,
      "outputs": []
    },
    {
      "cell_type": "code",
      "metadata": {
        "colab": {
          "base_uri": "https://localhost:8080/"
        },
        "id": "BBzzmlhVnwzM",
        "outputId": "05409f01-6b44-4755-fa4b-315ac93dc1d1"
      },
      "source": [
        "mu_updates, alpha_updates, gamma_updates, neg_log_likelihood_updates[1:]"
      ],
      "execution_count": 36,
      "outputs": [
        {
          "output_type": "execute_result",
          "data": {
            "text/plain": [
              "(array([16665.187755, 12038.364782, 10788.793820, 9865.439122, 8985.600754,\n",
              "        8128.733530, 7308.021600, 6538.316484, 5830.423491, 5190.143369,\n",
              "        4618.661498, 4113.458575, 3669.349993, 3279.402259, 2935.569544,\n",
              "        2628.945837, 2349.506253, 2085.052882, 1818.611947, 1522.201526,\n",
              "        1141.114284]),\n",
              " array([0.250000, 0.263193, 0.304312, 0.351469, 0.400629, 0.449920,\n",
              "        0.497879, 0.543271, 0.585117, 0.622737, 0.655730, 0.683931,\n",
              "        0.707333, 0.726001, 0.739980, 0.749194, 0.753313, 0.751554,\n",
              "        0.742328, 0.722489, 0.685552]),\n",
              " array([0.010000, 0.010638, 0.013655, 0.017595, 0.022262, 0.027599,\n",
              "        0.033576, 0.040186, 0.047463, 0.055505, 0.064501, 0.074765,\n",
              "        0.086790, 0.101338, 0.119614, 0.143594, 0.176724, 0.225502,\n",
              "        0.303632, 0.445126, 0.761617]),\n",
              " array([[-5120481.896714],\n",
              "        [-5158661.884790],\n",
              "        [-5172054.382421],\n",
              "        [-5184511.572052],\n",
              "        [-5196316.222071],\n",
              "        [-5207181.744869],\n",
              "        [-5216870.477371],\n",
              "        [-5225252.079989],\n",
              "        [-5232302.884889],\n",
              "        [-5238084.348818],\n",
              "        [-5242712.802653],\n",
              "        [-5246328.561498],\n",
              "        [-5249068.659537],\n",
              "        [-5251042.787760],\n",
              "        [-5252305.729654],\n",
              "        [-5252806.441534],\n",
              "        [-5252250.786215],\n",
              "        [-5249626.991245],\n",
              "        [-5241044.251899],\n",
              "        [-5204196.394174]]))"
            ]
          },
          "metadata": {
            "tags": []
          },
          "execution_count": 36
        }
      ]
    },
    {
      "cell_type": "code",
      "metadata": {
        "id": "CT7Ppsemombl"
      },
      "source": [
        "import matplotlib.pyplot as plt\n",
        "import seaborn as sns\n",
        "%matplotlib inline\n",
        "sns.set()"
      ],
      "execution_count": 31,
      "outputs": []
    },
    {
      "cell_type": "code",
      "metadata": {
        "colab": {
          "base_uri": "https://localhost:8080/"
        },
        "id": "DyX_vp1kxmZl",
        "outputId": "2bae6355-bc6b-45d0-97fc-5aeab4377535"
      },
      "source": [
        "from google.colab import drive\n",
        "drive.mount(\"/content/gdrive\")"
      ],
      "execution_count": 55,
      "outputs": [
        {
          "output_type": "stream",
          "text": [
            "Drive already mounted at /content/gdrive; to attempt to forcibly remount, call drive.mount(\"/content/gdrive\", force_remount=True).\n"
          ],
          "name": "stdout"
        }
      ]
    },
    {
      "cell_type": "code",
      "metadata": {
        "colab": {
          "base_uri": "https://localhost:8080/",
          "height": 513
        },
        "id": "_B1bvtb4nzdF",
        "outputId": "5314c2d5-9dcf-4b4a-b7e3-35ebf8da3682"
      },
      "source": [
        "# Exclude the negative log-likelihood for the initial parameters.\n",
        "\n",
        "# Setting the x-axis to be the number of iterations\n",
        "x = np.arange(neg_log_likelihood_updates.shape[0])\n",
        "\n",
        "fig = plt.figure( figsize = (12,8))\n",
        "\n",
        "plt.scatter(x[2:], neg_log_likelihood_updates[2:], c='dodgerblue', alpha=0.8, s=10)\n",
        "plt.xlabel(\"Iterations\" ) # \\n for the true parameters $ \\mu = 8$, $\\gamma = 0.1 $ and $ \\alpha = 0.25 $ ')\n",
        "plt.ylabel(\"Negative log-likelihood values\")\n",
        "\n",
        "fig.savefig(\"/content/gdrive/My Drive/Colab Notebooks/COVID_negative_log_likelihood.png\", dpi=200,transparent=True);"
      ],
      "execution_count": 65,
      "outputs": [
        {
          "output_type": "display_data",
          "data": {
            "image/png": "[encoded data removed]",
            "text/plain": [
              "<Figure size 864x576 with 1 Axes>"
            ]
          },
          "metadata": {
            "tags": []
          }
        }
      ]
    },
    {
      "cell_type": "code",
      "metadata": {
        "colab": {
          "base_uri": "https://localhost:8080/"
        },
        "id": "MjFvOvfQqM8G",
        "outputId": "6efa0383-ec5f-42a0-8570-289c026101a4"
      },
      "source": [
        "# where is the smallest negative log-likelihood\n",
        "\n",
        "np.where(neg_log_likelihood_updates == min(neg_log_likelihood_updates))  "
      ],
      "execution_count": 40,
      "outputs": [
        {
          "output_type": "execute_result",
          "data": {
            "text/plain": [
              "(array([16]), array([0]))"
            ]
          },
          "metadata": {
            "tags": []
          },
          "execution_count": 40
        }
      ]
    },
    {
      "cell_type": "code",
      "metadata": {
        "colab": {
          "base_uri": "https://localhost:8080/"
        },
        "id": "gZ4G8zOIqf85",
        "outputId": "a239e71a-3452-42b4-fdfa-282e8667bae7"
      },
      "source": [
        "# what are the parameters for the smallest negative log-likelihood\n",
        "\n",
        "mu_updates[15], alpha_updates[15], gamma_updates[15], neg_log_likelihood_updates[15]"
      ],
      "execution_count": 43,
      "outputs": [
        {
          "output_type": "execute_result",
          "data": {
            "text/plain": [
              "(2628.945837164436,\n",
              " 0.7491943733464697,\n",
              " 0.1435943148250654,\n",
              " array([-5252305.729654]))"
            ]
          },
          "metadata": {
            "tags": []
          },
          "execution_count": 43
        }
      ]
    },
    {
      "cell_type": "markdown",
      "metadata": {
        "id": "yr0tHiXerQLP"
      },
      "source": [
        "# Generating data with these parameters"
      ]
    },
    {
      "cell_type": "code",
      "metadata": {
        "id": "YvrDtygcrTGO"
      },
      "source": [
        "# Create synthetic data function\n",
        "\n",
        "def generate_data(n, rnd_seed, mu, gamma, alpha ):\n",
        "\n",
        "    # fixing the randomness\n",
        "    np.random.seed(rnd_seed)\n",
        "    \n",
        "    Lambda_ = np.zeros(n+1)\n",
        "    \n",
        "    # First lambda(0) = mu\n",
        "    Lambda_[0] = mu ## adding the first lambda_k = mu\n",
        "\n",
        "    # Delta_n and lambda_n empty lists\n",
        "    Delta_n = np.zeros(n) ## adding a dummy data point    \n",
        "    \n",
        "    #Generating the lambda function and synthetic data\n",
        "    for i in range(0,n):\n",
        "\n",
        "        # draw from poisson distribution\n",
        "        Delta_n[i] = np.random.poisson(Lambda_[i], size=1)\n",
        "\n",
        "        # update lambda k+1\n",
        "        Lambda_[i+1] = gamma*(Lambda_[i] - mu) + mu + alpha*Delta_n[i]\n",
        "    \n",
        "    return Lambda_, Delta_n"
      ],
      "execution_count": 44,
      "outputs": []
    },
    {
      "cell_type": "code",
      "metadata": {
        "colab": {
          "base_uri": "https://localhost:8080/",
          "height": 303
        },
        "id": "PmNs5ca8rUyU",
        "outputId": "2e5f8124-850c-497a-e9df-7dbd32bbec04"
      },
      "source": [
        "# Setting the no. of data points\n",
        "n0 = 35\n",
        "rnd_seed = 98 # random seed set\n",
        "\n",
        "# Setting the parameters \n",
        "mu0 = mu_updates[15]\n",
        "alpha0 = alpha_updates[15]\n",
        "gamma0 = gamma_updates[15]\n",
        "\n",
        "Lambda0_, Delta0_n = generate_data(n0, rnd_seed, mu0, gamma0, alpha0)\n",
        "\n",
        "x1 = range(1,n0+1)\n",
        "\n",
        "plt.bar(x1, Delta0_n[0:] ,  width=0.5,  color = 'darkgreen')\n",
        "\n",
        "plt.title(r'$\\Delta N_k $ scatter plot for $ \\mu = {} , \\ \\gamma = {} \\ and \\ \\alpha = {}  $'.format(np.round(mu0,3), np.round(gamma0,3), np.round( alpha0, 3)))\n",
        "plt.xlabel('Time')\n",
        "plt.ylabel('$ \\Delta N_k$');"
      ],
      "execution_count": 61,
      "outputs": [
        {
          "output_type": "display_data",
          "data": {
            "image/png": "[encoded data removed]",
            "text/plain": [
              "<Figure size 432x288 with 1 Axes>"
            ]
          },
          "metadata": {
            "tags": []
          }
        }
      ]
    },
    {
      "cell_type": "code",
      "metadata": {
        "colab": {
          "base_uri": "https://localhost:8080/",
          "height": 303
        },
        "id": "bkt8gJ8TrmQd",
        "outputId": "5bc8dfed-6e7c-4684-9bdd-bdf6c802cc2e"
      },
      "source": [
        "# Setting the no. of data points\n",
        "n0 = 35\n",
        "rnd_seed = 4 # random seed set to 4 \n",
        "\n",
        "# Setting the parameters \n",
        "mu0 = mu_updates[15]\n",
        "alpha0 = alpha_updates[15]\n",
        "gamma0 = gamma_updates[15]\n",
        "\n",
        "Lambda0_, Delta0_n = generate_data(n0, rnd_seed, mu0, gamma0, alpha0)\n",
        "\n",
        "x1 = range(1,n0+1)\n",
        "\n",
        "plt.bar(x1, Delta0_n[0:] ,  width=0.5,  color = 'darkgreen')\n",
        "\n",
        "plt.title(r'$\\Delta N_k $ scatter plot for $ \\mu = {} , \\ \\gamma = {} \\ and \\ \\alpha = {}  $'.format(np.round(mu0,3), np.round(gamma0,3), np.round( alpha0, 3)))\n",
        "plt.xlabel('Time')\n",
        "plt.ylabel('$ \\Delta N_k$');\n",
        "\n",
        "x1 = range(1,n0+1)\n",
        "\n",
        "plt.bar(x1, Delta0_n[0:] ,  width=0.5,  color = 'darkgreen')\n",
        "\n",
        "plt.title(r'$\\Delta N_k $ scatter plot for $ \\mu = {} , \\ \\gamma = {} \\ and \\ \\alpha = {}  $'.format(np.round(mu0,3), np.round(gamma0,3), np.round( alpha0, 3)))\n",
        "plt.xlabel('Time')\n",
        "plt.ylabel('$ \\Delta N_k$');"
      ],
      "execution_count": 48,
      "outputs": [
        {
          "output_type": "display_data",
          "data": {
            "image/png": "[encoded data removed]",
            "text/plain": [
              "<Figure size 432x288 with 1 Axes>"
            ]
          },
          "metadata": {
            "tags": []
          }
        }
      ]
    },
    {
      "cell_type": "code",
      "metadata": {
        "colab": {
          "base_uri": "https://localhost:8080/",
          "height": 518
        },
        "id": "Uu4DGUWrsE1f",
        "outputId": "21ee37ed-9a74-4a42-dfbd-e7f728b83cf3"
      },
      "source": [
        "x2 = range(0,avr_week_cases.shape[0])\n",
        "\n",
        "fig = plt.figure(figsize = (10,8))\n",
        "\n",
        "plt.plot(x2, avr_week_cases) \n",
        "plt.xlabel('Weeks number from 7th September 2020 until 9th May 2021')\n",
        "plt.ylabel('Average Covid-19 cases per week')\n",
        "\n",
        "plt.title(\"Average Covid-19 cases per week from 7th September 2020 until 9th May 2021 \")\n",
        "\n",
        "fig.savefig(\"/content/gdrive/My Drive/Colab Notebooks/COVID_avr_cases_week.png\", dpi=200,transparent=True);"
      ],
      "execution_count": 66,
      "outputs": [
        {
          "output_type": "display_data",
          "data": {
            "image/png": "[encoded data removed]",
            "text/plain": [
              "<Figure size 720x576 with 1 Axes>"
            ]
          },
          "metadata": {
            "tags": []
          }
        }
      ]
    }
  ]
}